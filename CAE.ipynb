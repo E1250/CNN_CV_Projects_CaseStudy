{
  "cells": [
    {
      "cell_type": "markdown",
      "metadata": {
        "id": "view-in-github",
        "colab_type": "text"
      },
      "source": [
        "<a href=\"https://colab.research.google.com/github/E1250/cnn_cv-ref/blob/main/CAE.ipynb\" target=\"_parent\"><img src=\"https://colab.research.google.com/assets/colab-badge.svg\" alt=\"Open In Colab\"/></a>"
      ]
    },
    {
      "cell_type": "markdown",
      "source": [
        "* Lecture - https://www.youtube.com/watch?v=C7hXRKpEkAY&list=PLyhJeMedQd9T-jQgrOxKiuJ_Q0plUeMfF&index=3\n",
        "* GitHub - https://github.com/AhmedIbrahimai/Deep-Convolution-AutoEncoder-computer-vision/blob/main/CAE.ipynb"
      ],
      "metadata": {
        "id": "7R1FEFoOYY4o"
      },
      "id": "7R1FEFoOYY4o"
    },
    {
      "cell_type": "markdown",
      "source": [
        "## Deep Convolutional AE"
      ],
      "metadata": {
        "id": "uvkNjaABYjG4"
      },
      "id": "uvkNjaABYjG4"
    },
    {
      "cell_type": "code",
      "execution_count": 1,
      "id": "15bf0535",
      "metadata": {
        "id": "15bf0535"
      },
      "outputs": [],
      "source": [
        "from keras.datasets import mnist\n",
        "from keras.models import Model\n",
        "from keras.layers import Conv2D, MaxPool2D, UpSampling2D, Input\n",
        "import cv2\n",
        "import os\n",
        "import numpy as np"
      ]
    },
    {
      "cell_type": "code",
      "execution_count": 2,
      "id": "9b237ac3",
      "metadata": {
        "id": "9b237ac3",
        "outputId": "2043069a-b07e-4b66-a282-b0376e4807f1",
        "colab": {
          "base_uri": "https://localhost:8080/"
        }
      },
      "outputs": [
        {
          "output_type": "stream",
          "name": "stdout",
          "text": [
            "Downloading data from https://storage.googleapis.com/tensorflow/tf-keras-datasets/mnist.npz\n",
            "11490434/11490434 [==============================] - 1s 0us/step\n"
          ]
        }
      ],
      "source": [
        "# dataset from keras\n",
        "(X_train, y_train),(X_test, y_test) = mnist.load_data()"
      ]
    },
    {
      "cell_type": "code",
      "execution_count": 3,
      "id": "ce0a318e",
      "metadata": {
        "id": "ce0a318e",
        "outputId": "e2e843a5-e4f0-43ea-ba02-ef48328b4101",
        "colab": {
          "base_uri": "https://localhost:8080/",
          "height": 430
        }
      },
      "outputs": [
        {
          "output_type": "display_data",
          "data": {
            "text/plain": [
              "<Figure size 640x480 with 1 Axes>"
            ],
            "image/png": "[encoded data removed]"
          },
          "metadata": {}
        }
      ],
      "source": [
        "import matplotlib.pyplot as plt\n",
        "plt.imshow(X_train[0], cmap = 'gray');"
      ]
    },
    {
      "cell_type": "code",
      "execution_count": 4,
      "id": "c31c8e52",
      "metadata": {
        "id": "c31c8e52",
        "outputId": "cae2a98f-c530-41b0-d1a6-214c5192b5dc",
        "colab": {
          "base_uri": "https://localhost:8080/"
        }
      },
      "outputs": [
        {
          "output_type": "execute_result",
          "data": {
            "text/plain": [
              "(60000, 28, 28)"
            ]
          },
          "metadata": {},
          "execution_count": 4
        }
      ],
      "source": [
        "X_train.shape"
      ]
    },
    {
      "cell_type": "code",
      "execution_count": 5,
      "id": "b0172b78",
      "metadata": {
        "id": "b0172b78"
      },
      "outputs": [],
      "source": [
        "# Normalizing - Diviging by Max\n",
        "X_train = X_train / 255.0\n",
        "X_test = X_test / 255.0"
      ]
    },
    {
      "cell_type": "code",
      "execution_count": 6,
      "id": "a40f8ace",
      "metadata": {
        "id": "a40f8ace",
        "outputId": "6ef45fb3-c0bb-43ef-d2e7-58b2b3a991a8",
        "colab": {
          "base_uri": "https://localhost:8080/"
        }
      },
      "outputs": [
        {
          "output_type": "execute_result",
          "data": {
            "text/plain": [
              "(60000, 28, 28, 1)"
            ]
          },
          "metadata": {},
          "execution_count": 6
        }
      ],
      "source": [
        "X_train = X_train.reshape(X_train.shape[0], 28,28,1)\n",
        "X_test = X_test.reshape(X_test.shape[0], 28,28,1)\n",
        "X_train.shape"
      ]
    },
    {
      "cell_type": "markdown",
      "source": [
        "## Model"
      ],
      "metadata": {
        "id": "y_iTaqvEZGfX"
      },
      "id": "y_iTaqvEZGfX"
    },
    {
      "cell_type": "code",
      "execution_count": 7,
      "id": "057c88da",
      "metadata": {
        "id": "057c88da"
      },
      "outputs": [],
      "source": [
        "# Creating the model\n",
        "# > Note the MaxPool and UpSampling Here\n",
        "input_layer = Input(shape = (28,28,1))\n",
        "\n",
        "# Encoder\n",
        "x = Conv2D(16, (3,3), activation = 'relu', padding = 'same')(input_layer) # Note!\n",
        "x = MaxPool2D(pool_size = (2,2), padding = 'same')(x)\n",
        "x = Conv2D(8, (3,3), activation = 'relu', padding = 'same')(x)\n",
        "x = MaxPool2D(pool_size = (2,2), padding = 'same')(x)\n",
        "x = Conv2D(8, (3,3), activation = 'relu', padding = 'same')(x)\n",
        "encoded = MaxPool2D(pool_size = (2,2), padding = 'same')(x)\n",
        "\n",
        "# Decoder\n",
        "x = Conv2D(8, (3,3), activation = 'relu', padding = 'same')(encoded) # Note!\n",
        "x = UpSampling2D((2,2))(x)\n",
        "x = Conv2D(8, (3,3), activation = 'relu', padding = 'same')(x)\n",
        "x = UpSampling2D((2,2))(x)\n",
        "x = Conv2D(16, (3,3), activation = 'relu')(x)\n",
        "x = UpSampling2D((2,2))(x)\n",
        "decoded = Conv2D(1, (3,3), activation = 'relu', padding = 'same')(x)"
      ]
    },
    {
      "cell_type": "code",
      "execution_count": 8,
      "id": "cbc9ed70",
      "metadata": {
        "id": "cbc9ed70",
        "outputId": "aa5b394a-11a2-49a5-e384-004d73df4028",
        "colab": {
          "base_uri": "https://localhost:8080/"
        }
      },
      "outputs": [
        {
          "output_type": "stream",
          "name": "stdout",
          "text": [
            "Model: \"model\"\n",
            "_________________________________________________________________\n",
            " Layer (type)                Output Shape              Param #   \n",
            "=================================================================\n",
            " input_1 (InputLayer)        [(None, 28, 28, 1)]       0         \n",
            "                                                                 \n",
            " conv2d (Conv2D)             (None, 28, 28, 16)        160       \n",
            "                                                                 \n",
            " max_pooling2d (MaxPooling2  (None, 14, 14, 16)        0         \n",
            " D)                                                              \n",
            "                                                                 \n",
            " conv2d_1 (Conv2D)           (None, 14, 14, 8)         1160      \n",
            "                                                                 \n",
            " max_pooling2d_1 (MaxPoolin  (None, 7, 7, 8)           0         \n",
            " g2D)                                                            \n",
            "                                                                 \n",
            " conv2d_2 (Conv2D)           (None, 7, 7, 8)           584       \n",
            "                                                                 \n",
            " max_pooling2d_2 (MaxPoolin  (None, 4, 4, 8)           0         \n",
            " g2D)                                                            \n",
            "                                                                 \n",
            " conv2d_3 (Conv2D)           (None, 4, 4, 8)           584       \n",
            "                                                                 \n",
            " up_sampling2d (UpSampling2  (None, 8, 8, 8)           0         \n",
            " D)                                                              \n",
            "                                                                 \n",
            " conv2d_4 (Conv2D)           (None, 8, 8, 8)           584       \n",
            "                                                                 \n",
            " up_sampling2d_1 (UpSamplin  (None, 16, 16, 8)         0         \n",
            " g2D)                                                            \n",
            "                                                                 \n",
            " conv2d_5 (Conv2D)           (None, 14, 14, 16)        1168      \n",
            "                                                                 \n",
            " up_sampling2d_2 (UpSamplin  (None, 28, 28, 16)        0         \n",
            " g2D)                                                            \n",
            "                                                                 \n",
            " conv2d_6 (Conv2D)           (None, 28, 28, 1)         145       \n",
            "                                                                 \n",
            "=================================================================\n",
            "Total params: 4385 (17.13 KB)\n",
            "Trainable params: 4385 (17.13 KB)\n",
            "Non-trainable params: 0 (0.00 Byte)\n",
            "_________________________________________________________________\n"
          ]
        }
      ],
      "source": [
        "# > Note Input shape (First) is the same as Output shape (Second)\n",
        "autoencoder = Model(input_layer, decoded)\n",
        "autoencoder.summary()"
      ]
    },
    {
      "cell_type": "code",
      "execution_count": 9,
      "id": "6f141b1e",
      "metadata": {
        "id": "6f141b1e"
      },
      "outputs": [],
      "source": [
        "autoencoder.compile(loss = 'binary_crossentropy', optimizer = 'adam')"
      ]
    },
    {
      "cell_type": "code",
      "execution_count": 10,
      "id": "4904545d",
      "metadata": {
        "id": "4904545d",
        "outputId": "60e24511-e9e4-4ea6-b570-c830ab43524c",
        "colab": {
          "base_uri": "https://localhost:8080/"
        }
      },
      "outputs": [
        {
          "output_type": "stream",
          "name": "stdout",
          "text": [
            "469/469 [==============================] - 3s 6ms/step - loss: 0.1455 - val_loss: 0.1360\n",
            "Epoch 43/50\n",
            "469/469 [==============================] - 3s 6ms/step - loss: 0.1369 - val_loss: 0.1350\n",
            "Epoch 44/50\n",
            "469/469 [==============================] - 4s 8ms/step - loss: 0.1396 - val_loss: 0.1369\n",
            "Epoch 45/50\n",
            "469/469 [==============================] - 3s 7ms/step - loss: 0.1360 - val_loss: 0.1392\n",
            "Epoch 46/50\n",
            "469/469 [==============================] - 3s 6ms/step - loss: 0.1387 - val_loss: 0.1343\n",
            "Epoch 47/50\n",
            "469/469 [==============================] - 3s 6ms/step - loss: 0.1516 - val_loss: 0.1531\n",
            "Epoch 48/50\n",
            "469/469 [==============================] - 3s 7ms/step - loss: 0.1403 - val_loss: 0.1411\n",
            "Epoch 49/50\n",
            "469/469 [==============================] - 3s 7ms/step - loss: 0.1314 - val_loss: 0.1266\n",
            "Epoch 50/50\n",
            "469/469 [==============================] - 3s 6ms/step - loss: 0.1315 - val_loss: 0.2129\n"
          ]
        }
      ],
      "source": [
        "# Note the input data are all INPUT training data (unsupervised learning)\n",
        "history = autoencoder.fit(X_train, X_train, epochs=50, batch_size = 128, validation_data=(X_test,X_test))"
      ]
    },
    {
      "cell_type": "markdown",
      "source": [
        "Splitting encoder and decoder from the autoencoder model"
      ],
      "metadata": {
        "id": "y9lJvg0FbFHC"
      },
      "id": "y9lJvg0FbFHC"
    },
    {
      "cell_type": "code",
      "execution_count": 11,
      "id": "523adffe",
      "metadata": {
        "id": "523adffe",
        "outputId": "41dfc6bd-1561-47d7-f860-cea6fbd6fd90",
        "colab": {
          "base_uri": "https://localhost:8080/"
        }
      },
      "outputs": [
        {
          "output_type": "stream",
          "name": "stdout",
          "text": [
            "Model: \"model_1\"\n",
            "_________________________________________________________________\n",
            " Layer (type)                Output Shape              Param #   \n",
            "=================================================================\n",
            " input_1 (InputLayer)        [(None, 28, 28, 1)]       0         \n",
            "                                                                 \n",
            " conv2d (Conv2D)             (None, 28, 28, 16)        160       \n",
            "                                                                 \n",
            " max_pooling2d (MaxPooling2  (None, 14, 14, 16)        0         \n",
            " D)                                                              \n",
            "                                                                 \n",
            " conv2d_1 (Conv2D)           (None, 14, 14, 8)         1160      \n",
            "                                                                 \n",
            " max_pooling2d_1 (MaxPoolin  (None, 7, 7, 8)           0         \n",
            " g2D)                                                            \n",
            "                                                                 \n",
            " conv2d_2 (Conv2D)           (None, 7, 7, 8)           584       \n",
            "                                                                 \n",
            " max_pooling2d_2 (MaxPoolin  (None, 4, 4, 8)           0         \n",
            " g2D)                                                            \n",
            "                                                                 \n",
            "=================================================================\n",
            "Total params: 1904 (7.44 KB)\n",
            "Trainable params: 1904 (7.44 KB)\n",
            "Non-trainable params: 0 (0.00 Byte)\n",
            "_________________________________________________________________\n"
          ]
        }
      ],
      "source": [
        "encoder = Model(input_layer, encoded)\n",
        "encoder.summary()"
      ]
    },
    {
      "cell_type": "code",
      "execution_count": 12,
      "id": "09705404",
      "metadata": {
        "id": "09705404",
        "outputId": "a8d4f396-8998-4c03-adc2-72a13dac888b",
        "colab": {
          "base_uri": "https://localhost:8080/"
        }
      },
      "outputs": [
        {
          "output_type": "stream",
          "name": "stdout",
          "text": [
            "Model: \"Decoder\"\n",
            "_________________________________________________________________\n",
            " Layer (type)                Output Shape              Param #   \n",
            "=================================================================\n",
            " input_2 (InputLayer)        [(None, 4, 4, 8)]         0         \n",
            "                                                                 \n",
            " conv2d_3 (Conv2D)           (None, 4, 4, 8)           584       \n",
            "                                                                 \n",
            " up_sampling2d (UpSampling2  (None, 8, 8, 8)           0         \n",
            " D)                                                              \n",
            "                                                                 \n",
            " conv2d_4 (Conv2D)           (None, 8, 8, 8)           584       \n",
            "                                                                 \n",
            " up_sampling2d_1 (UpSamplin  (None, 16, 16, 8)         0         \n",
            " g2D)                                                            \n",
            "                                                                 \n",
            " conv2d_5 (Conv2D)           (None, 14, 14, 16)        1168      \n",
            "                                                                 \n",
            " up_sampling2d_2 (UpSamplin  (None, 28, 28, 16)        0         \n",
            " g2D)                                                            \n",
            "                                                                 \n",
            " conv2d_6 (Conv2D)           (None, 28, 28, 1)         145       \n",
            "                                                                 \n",
            "=================================================================\n",
            "Total params: 2481 (9.69 KB)\n",
            "Trainable params: 2481 (9.69 KB)\n",
            "Non-trainable params: 0 (0.00 Byte)\n",
            "_________________________________________________________________\n"
          ]
        }
      ],
      "source": [
        "decoder_layer = Input(shape = (4,4,8))\n",
        "\n",
        "decoder = autoencoder.layers[7](decoder_layer)\n",
        "\n",
        "for layer in autoencoder.layers[8:]:\n",
        "    decoder = layer(decoder)\n",
        "\n",
        "decoder = Model(decoder_layer, decoder, name = 'Decoder')\n",
        "decoder.summary()"
      ]
    },
    {
      "cell_type": "markdown",
      "source": [
        "## Predicting"
      ],
      "metadata": {
        "id": "jgjP37mmb5Ba"
      },
      "id": "jgjP37mmb5Ba"
    },
    {
      "cell_type": "code",
      "execution_count": 13,
      "id": "3cd29db3",
      "metadata": {
        "id": "3cd29db3",
        "outputId": "42c982e6-3b8e-40dd-d82d-9b1ee0e2ec84",
        "colab": {
          "base_uri": "https://localhost:8080/"
        }
      },
      "outputs": [
        {
          "output_type": "stream",
          "name": "stdout",
          "text": [
            "313/313 [==============================] - 1s 2ms/step\n"
          ]
        },
        {
          "output_type": "execute_result",
          "data": {
            "text/plain": [
              "(10000, 4, 4, 8)"
            ]
          },
          "metadata": {},
          "execution_count": 13
        }
      ],
      "source": [
        "# encoder images for testing (Compressing)\n",
        "encoded_images = encoder.predict(X_test, verbose = 1)\n",
        "encoded_images.shape"
      ]
    },
    {
      "cell_type": "code",
      "execution_count": 14,
      "id": "0416f607",
      "metadata": {
        "id": "0416f607",
        "outputId": "c9d09cbb-a603-4d50-fcb6-e14cb871ad46",
        "colab": {
          "base_uri": "https://localhost:8080/"
        }
      },
      "outputs": [
        {
          "output_type": "stream",
          "name": "stdout",
          "text": [
            "313/313 [==============================] - 1s 2ms/step\n"
          ]
        },
        {
          "output_type": "execute_result",
          "data": {
            "text/plain": [
              "(10000, 28, 28, 1)"
            ]
          },
          "metadata": {},
          "execution_count": 14
        }
      ],
      "source": [
        "# Decompressing\n",
        "decoded_images = decoder.predict(encoded_images, verbose=1)\n",
        "decoded_images.shape"
      ]
    },
    {
      "cell_type": "code",
      "execution_count": 17,
      "id": "ce4309db",
      "metadata": {
        "id": "ce4309db",
        "outputId": "88f8dfc9-7417-4e42-b4b6-a28d9baee7ff",
        "colab": {
          "base_uri": "https://localhost:8080/",
          "height": 447
        }
      },
      "outputs": [
        {
          "output_type": "stream",
          "name": "stdout",
          "text": [
            "Shape  (10000, 28, 28)\n"
          ]
        },
        {
          "output_type": "display_data",
          "data": {
            "text/plain": [
              "<Figure size 640x480 with 1 Axes>"
            ],
            "image/png": "[encoded data removed]"
          },
          "metadata": {}
        }
      ],
      "source": [
        "# Reshaping the image to show\n",
        "decoded_images = decoded_images.reshape(decoded_images.shape[0], 28,28)\n",
        "print(\"Shape \",decoded_images.shape)\n",
        "\n",
        "plt.imshow(decoded_images[1], cmap = 'gray');"
      ]
    },
    {
      "cell_type": "code",
      "execution_count": 18,
      "id": "25614403",
      "metadata": {
        "id": "25614403",
        "outputId": "de47871b-b9d7-4318-ee2e-728f94f54cf6",
        "colab": {
          "base_uri": "https://localhost:8080/",
          "height": 430
        }
      },
      "outputs": [
        {
          "output_type": "display_data",
          "data": {
            "text/plain": [
              "<Figure size 640x480 with 1 Axes>"
            ],
            "image/png": "[encoded data removed]"
          },
          "metadata": {}
        }
      ],
      "source": [
        "# Showing real image\n",
        "X_test = X_test.reshape(X_test.shape[0], 28,28)\n",
        "plt.imshow(X_test[1], cmap = 'gray');"
      ]
    }
  ],
  "metadata": {
    "kernelspec": {
      "display_name": "Python 3",
      "name": "python3"
    },
    "language_info": {
      "codemirror_mode": {
        "name": "ipython",
        "version": 3
      },
      "file_extension": ".py",
      "mimetype": "text/x-python",
      "name": "python",
      "nbconvert_exporter": "python",
      "pygments_lexer": "ipython3",
      "version": "3.9.17"
    },
    "colab": {
      "provenance": [],
      "gpuType": "T4",
      "include_colab_link": true
    },
    "accelerator": "GPU"
  },
  "nbformat": 4,
  "nbformat_minor": 5
}