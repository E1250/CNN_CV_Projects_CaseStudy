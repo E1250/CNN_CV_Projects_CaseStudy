{
 "cells": [
  {
   "attachments": {},
   "cell_type": "markdown",
   "metadata": {},
   "source": [
    "## Face Detection"
   ]
  },
  {
   "cell_type": "code",
   "execution_count": 1,
   "metadata": {},
   "outputs": [],
   "source": [
    "import cv2 as cv\n",
    "import time\n",
    "import mediapipe as mp"
   ]
  },
  {
   "cell_type": "code",
   "execution_count": null,
   "metadata": {},
   "outputs": [],
   "source": [
    "cap = cv.VideoCapture(0)\n",
    "pTime = 0\n",
    "\n",
    "mpFaceDetection = mp.solutions.face_detection\n",
    "mpDraw = mp.solutions.drawing_utils\n",
    "faceDetection = mpFaceDetection.FaceDetection(0.75)\n",
    "\n",
    "while True:\n",
    "    success , img = cap.read()\n",
    "    imgRGB = cv.cvtColor(img,cv.COLOR_BGR2RGB)\n",
    "    results = faceDetection.process(imgRGB)\n",
    "\n",
    "    # Detecting Landmarks\n",
    "    if results.detections:\n",
    "        for id ,detection in enumerate(results.detections):\n",
    "            print(\"ID : \",id , \"Detections : \",detection)\n",
    "            print(\"Detection Score : \",detection.score)\n",
    "            print(\"Bounding Box : \",detection.location_data.relative_bounding_box)\n",
    "            mpDraw.draw_detection(img,detection)\n",
    "            \n",
    "            # Drawing\n",
    "            h,w,c = img.shape\n",
    "            bboxC = detection.location_data.relative_bounding_box # Bounding Box Class\n",
    "            bbox = int(bboxC.xmin * w) , int(bboxC.ymin * h) , int(bboxC.width * w) , int(bboxC.height * h)    \n",
    "            \n",
    "            cv.rectangle(img , bbox , (255,0,255) , 2)\n",
    "            cv.putText(img,f\"Score : {int(detection.score[0]*100)}%\" , (bbox[0],bbox[1]-20),cv.FONT_HERSHEY_PLAIN , 2 , (255,0,255),2)\n",
    "    \n",
    "    # Creating FBS\n",
    "    cTime = time.time()\n",
    "    fbs = 1 / (cTime - pTime)\n",
    "    pTime = cTime\n",
    "    cv.putText(img,f\"FBS : {int(fbs)}\" , (20,70),cv.FONT_HERSHEY_PLAIN , 3 , (0,255,0))\n",
    "    \n",
    "    # Showing Image\n",
    "    cv.imshow(\"Image\" , img)\n",
    "    cv.waitKey(1)"
   ]
  },
  {
   "cell_type": "markdown",
   "metadata": {},
   "source": [
    "## Module"
   ]
  },
  {
   "cell_type": "code",
   "execution_count": 30,
   "metadata": {},
   "outputs": [],
   "source": [
    "class FaceDetector():\n",
    "    def __init__(self, minDetectionConf = 0.5 ):\n",
    "        self.minDetectionConf=minDetectionConf\n",
    "\n",
    "        self.mpFaceDetection = mp.solutions.face_detection\n",
    "        self.mpDraw = mp.solutions.drawing_utils\n",
    "        self.faceDetection = mpFaceDetection.FaceDetection(self.minDetectionConf)\n",
    "        \n",
    "    def findFaces(self,img , draw = True):\n",
    "        imgRGB = cv.cvtColor(img,cv.COLOR_BGR2RGB)\n",
    "        self.results = self.faceDetection.process(imgRGB)\n",
    "\n",
    "        # Detecting Landmarks\n",
    "        bboxs = [] # Bounding Boxes\n",
    "        if self.results.detections:\n",
    "            for id ,detection in enumerate(self.results.detections):\n",
    "                print(\"ID : \",id , \"Detections : \",detection)\n",
    "                print(\"Detection Score : \",detection.score)\n",
    "                print(\"Bounding Box : \",detection.location_data.relative_bounding_box)\n",
    "                mpDraw.draw_detection(img,detection)\n",
    "                \n",
    "                # Drawing\n",
    "                h,w,c = img.shape\n",
    "                bboxC = detection.location_data.relative_bounding_box # Bounding Box Class\n",
    "                bbox = int(bboxC.xmin * w) , int(bboxC.ymin * h) , int(bboxC.width * w) , int(bboxC.height * h)    \n",
    "                # bboxs.append([id ,bbox , detection.score])\n",
    "                \n",
    "                # cv.rectangle(img , bbox , (255,0,255) , 2)\n",
    "                if draw : img = self.fancyDraw(img,bbox)\n",
    "                cv.putText(img,f\"Score : {int(detection.score[0]*100)}%\" , (bbox[0],bbox[1]-20),cv.FONT_HERSHEY_PLAIN , 2 , (255,0,255),2)\n",
    "                \n",
    "        return img,bboxs\n",
    "    \n",
    "    def fancyDraw(self,img, bbox , l = 30):\n",
    "        x,y,w,h = bbox\n",
    "        x1 , y1 = x+w , y+h\n",
    "        \n",
    "        cv.rectangle(img , bbox , (255,0,255) , 1)\n",
    "        cv.line(img,(x,y) , (x+l,y) , (255,0,255) , 10) # Top Left Horizonal Line\n",
    "        cv.line(img,(x,y) , (x,y+l) , (255,0,255) , 10) # Top Left Vertical Line\n",
    "        \n",
    "        cv.line(img,(x1,y1) , (x1-l,y1) , (255,0,255) , 10) # Botom Right Horizonal Line\n",
    "        cv.line(img,(x1,y1) , (x1,y1-l) , (255,0,255) , 10) # Botom Right Vertical Line\n",
    "        \n",
    "        return img\n",
    "        "
   ]
  },
  {
   "cell_type": "code",
   "execution_count": null,
   "metadata": {},
   "outputs": [],
   "source": [
    "cap = cv.VideoCapture(0)\n",
    "pTime = 0\n",
    "detector = FaceDetector()\n",
    "\n",
    "while True:\n",
    "    success , img = cap.read()\n",
    "    img,bboxs = detector.findFaces(img)\n",
    "    \n",
    "    # Creating FBS\n",
    "    cTime = time.time()\n",
    "    fbs = 1 / (cTime - pTime)\n",
    "    pTime = cTime\n",
    "    \n",
    "    cv.putText(img,f\"FBS : {int(fbs)}\" , (20,70),cv.FONT_HERSHEY_PLAIN , 3 , (0,255,0),2)\n",
    "    \n",
    "    # Showing Image\n",
    "    cv.imshow(\"Image\" , img)\n",
    "    cv.waitKey(1)"
   ]
  }
 ],
 "metadata": {
  "kernelspec": {
   "display_name": "Python 3",
   "language": "python",
   "name": "python3"
  },
  "language_info": {
   "codemirror_mode": {
    "name": "ipython",
    "version": 3
   },
   "file_extension": ".py",
   "mimetype": "text/x-python",
   "name": "python",
   "nbconvert_exporter": "python",
   "pygments_lexer": "ipython3",
   "version": "3.8.16"
  },
  "orig_nbformat": 4
 },
 "nbformat": 4,
 "nbformat_minor": 2
}
