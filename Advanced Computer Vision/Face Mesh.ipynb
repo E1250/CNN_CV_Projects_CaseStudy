{
 "cells": [
  {
   "attachments": {},
   "cell_type": "markdown",
   "metadata": {},
   "source": [
    "## Face Mesh"
   ]
  },
  {
   "cell_type": "code",
   "execution_count": 1,
   "metadata": {},
   "outputs": [],
   "source": [
    "import time\n",
    "import mediapipe as mp\n",
    "import cv2 as cv"
   ]
  },
  {
   "cell_type": "code",
   "execution_count": null,
   "metadata": {},
   "outputs": [
    {
     "ename": "",
     "evalue": "",
     "output_type": "error",
     "traceback": [
      "\u001b[1;31mThe Kernel crashed while executing code in the the current cell or a previous cell. Please review the code in the cell(s) to identify a possible cause of the failure. Click <a href='https://aka.ms/vscodeJupyterKernelCrash'>here</a> for more info. View Jupyter <a href='command:jupyter.viewOutput'>log</a> for further details."
     ]
    }
   ],
   "source": [
    "cap = cv.VideoCapture(0) # 0 > Camera\n",
    "pTime = 0\n",
    "\n",
    "mpDraw = mp.solutions.drawing_utils\n",
    "mpFaceMesh = mp.solutions.face_mesh\n",
    "faceMesh = mpFaceMesh.FaceMesh(max_num_faces = 2)\n",
    "drawSpec = mpDraw.DrawingSpec(thickness= 1 , circle_radius= 2)  # Optional\n",
    "\n",
    "while True:\n",
    "    success , img = cap.read()\n",
    "    imgRGB = cv.cvtColor(img , cv.COLOR_BGR2RGB )\n",
    "    results = faceMesh.process(imgRGB)\n",
    "    if results.multi_face_landmarks:\n",
    "        for faceLMs in results.multi_face_landmarks:\n",
    "            mpDraw.draw_landmarks(img, faceLMs , mpFaceMesh.FACEMESH_CONTOURS , landmark_drawing_spec=drawSpec)\n",
    "            \n",
    "            for id , lm in enumerate(faceLMs.landmark):\n",
    "                print(\"Face Landmarks : \\n\",lm)\n",
    "                \n",
    "                h,w,c = img.shape\n",
    "                cx , cy = int(lm.x * w), int(lm.y * h)\n",
    "                print(id,\" Pixels : \",cx ,\" \", cy)\n",
    "                \n",
    "                \n",
    "    \n",
    "    # Showing FBS Rate\n",
    "    cTime = time.time()\n",
    "    fbs = 1 / (cTime - pTime)\n",
    "    pTime = cTime\n",
    "    cv.putText(img, f\"FBS : {int(fbs)}\" , (20,70) , cv.FONT_HERSHEY_PLAIN , 3 ,(0 ,255,0), 3)\n",
    "    \n",
    "    # Showing image\n",
    "    cv.imshow(\"Image\" , img)\n",
    "    cv.waitKey(1)"
   ]
  },
  {
   "attachments": {},
   "cell_type": "markdown",
   "metadata": {},
   "source": [
    "## Module"
   ]
  },
  {
   "cell_type": "code",
   "execution_count": 3,
   "metadata": {},
   "outputs": [],
   "source": [
    "import time\n",
    "import mediapipe as mp\n",
    "import cv2 as cv"
   ]
  },
  {
   "cell_type": "code",
   "execution_count": 6,
   "metadata": {},
   "outputs": [],
   "source": [
    "class FaceMeshDetecotr():\n",
    "    def __init__(self,staticMode = False , maxFaces = 2 , minDetectionConf= 0.5 , minTrackConf = 0.5):\n",
    "        self.staticMode = staticMode\n",
    "        self.maxFaces = maxFaces\n",
    "        self.minDetectionConf = minDetectionConf\n",
    "        self.minTrackConf = minTrackConf\n",
    "        \n",
    "        self.mpDraw = mp.solutions.drawing_utils\n",
    "        self.mpFaceMesh = mp.solutions.face_mesh\n",
    "        self.faceMesh = self.mpFaceMesh.FaceMesh(self.staticMode,self.maxFaces,False,self.minDetectionConf,self.minTrackConf)\n",
    "        self.drawSpec = self.mpDraw.DrawingSpec(thickness= 1 , circle_radius= 2) \n",
    "        \n",
    "    def findFaceMesh(self,img,draw = True):\n",
    "        self.imgRGB = cv.cvtColor(img , cv.COLOR_BGR2RGB)\n",
    "        self.results = self.faceMesh.process(self.imgRGB)\n",
    "        \n",
    "        faces = []\n",
    "        if self.results.multi_face_landmarks:\n",
    "            face = []\n",
    "            for faceLMs in self.results.multi_face_landmarks:\n",
    "                if draw : self.mpDraw.draw_landmarks(img, faceLMs , self.mpFaceMesh.FACEMESH_CONTOURS , landmark_drawing_spec=self.drawSpec)\n",
    "                for id , lm in enumerate(faceLMs.landmark):\n",
    "                    print(\"Face Landmarks : \\n\",lm)\n",
    "                    \n",
    "                    h,w,c = img.shape\n",
    "                    cx , cy = int(lm.x * w), int(lm.y * h)\n",
    "                    print(id,\" Pixels : \",cx ,\" \", cy)\n",
    "                    \n",
    "                    face.append([cx , cy])\n",
    "                faces.append(face)\n",
    "                    \n",
    "        return img,faces"
   ]
  },
  {
   "cell_type": "code",
   "execution_count": null,
   "metadata": {},
   "outputs": [
    {
     "ename": "",
     "evalue": "",
     "output_type": "error",
     "traceback": [
      "\u001b[1;31mThe Kernel crashed while executing code in the the current cell or a previous cell. Please review the code in the cell(s) to identify a possible cause of the failure. Click <a href='https://aka.ms/vscodeJupyterKernelCrash'>here</a> for more info. View Jupyter <a href='command:jupyter.viewOutput'>log</a> for further details."
     ]
    }
   ],
   "source": [
    "cap = cv.VideoCapture(0) # 0 > Camera\n",
    "pTime = 0\n",
    "detector = FaceMeshDetecotr()\n",
    "\n",
    "while True:    \n",
    "    success , img = cap.read()\n",
    "    img,faces = detector.findFaceMesh(img)\n",
    "    if len(faces) !=0 : print(\"Num of Faces\",len(faces))\n",
    "    \n",
    "    # Showing FBS Rate\n",
    "    cTime = time.time()\n",
    "    fbs = 1 / (cTime - pTime)\n",
    "    pTime = cTime\n",
    "    cv.putText(img, f\"FBS : {int(fbs)}\" , (20,70) , cv.FONT_HERSHEY_PLAIN , 3 ,(0 ,255,0), 3)\n",
    "    \n",
    "    # Showing image\n",
    "    cv.imshow(\"Image\" , img)\n",
    "    cv.waitKey(1)"
   ]
  },
  {
   "cell_type": "code",
   "execution_count": null,
   "metadata": {},
   "outputs": [],
   "source": []
  }
 ],
 "metadata": {
  "kernelspec": {
   "display_name": "Python 3",
   "language": "python",
   "name": "python3"
  },
  "language_info": {
   "codemirror_mode": {
    "name": "ipython",
    "version": 3
   },
   "file_extension": ".py",
   "mimetype": "text/x-python",
   "name": "python",
   "nbconvert_exporter": "python",
   "pygments_lexer": "ipython3",
   "version": "3.11.2"
  },
  "orig_nbformat": 4
 },
 "nbformat": 4,
 "nbformat_minor": 2
}
