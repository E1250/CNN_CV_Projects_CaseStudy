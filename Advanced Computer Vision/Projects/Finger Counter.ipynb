{
 "cells": [
  {
   "cell_type": "code",
   "execution_count": 1,
   "metadata": {},
   "outputs": [],
   "source": [
    "import time\n",
    "import os\n",
    "import cv2 as cv\n",
    "import mediapipe as mp"
   ]
  },
  {
   "cell_type": "code",
   "execution_count": 2,
   "metadata": {},
   "outputs": [],
   "source": [
    "# Module\n",
    "# Hand Traching Module\n",
    "class handDetector():\n",
    "    def __init__(self , mode = False , maxHands = 2 , detectionCon = 0.5 , trackCon = 0.5):\n",
    "        self.mode = mode\n",
    "        self.maxHands = maxHands\n",
    "        self.detectionCon = detectionCon\n",
    "        self.trackCon = trackCon\n",
    "        \n",
    "        self.mpHands= mp.solutions.hands\n",
    "        self.hands = self.mpHands.Hands(self.mode , self.maxHands ,1, self.detectionCon , self.trackCon)\n",
    "        self.mpDraw = mp.solutions.drawing_utils\n",
    "        \n",
    "    def findHands(self,img,draw = True):\n",
    "        imgRGB =  cv.cvtColor(img , cv.COLOR_BGR2RGB)\n",
    "        self.results = self.hands.process(imgRGB)\n",
    "        if self.results.multi_hand_landmarks:\n",
    "            for handLms in self.results.multi_hand_landmarks:\n",
    "                if draw : self.mpDraw.draw_landmarks(img,handLms , self.mpHands.HAND_CONNECTIONS)\n",
    "        return img\n",
    "    \n",
    "    def findPosition(self , img , handNo = 0 , draw = True):\n",
    "        lmList = []\n",
    "        if self.results.multi_hand_landmarks:\n",
    "            \n",
    "            myHand = self.results.multi_hand_landmarks[handNo]\n",
    "            \n",
    "            for id , lm in enumerate(myHand.landmark):\n",
    "                    h, w ,c = img.shape\n",
    "                    cx , cy = int(lm.x*w ) , int(lm.y * h)\n",
    "                    lmList.append([id, cx, cy])\n",
    "                    \n",
    "                    if draw : cv.circle(img,(cx , cy) , 25 , (255,0,255) , cv.FILLED)\n",
    "                    \n",
    "        return lmList"
   ]
  },
  {
   "cell_type": "code",
   "execution_count": 3,
   "metadata": {},
   "outputs": [],
   "source": [
    "# Constants\n",
    "wCam , hCam = 640 , 480 # Cam  Width , Height"
   ]
  },
  {
   "cell_type": "code",
   "execution_count": 4,
   "metadata": {},
   "outputs": [
    {
     "name": "stderr",
     "output_type": "stream",
     "text": [
      "d:\\Src\\Anaconda\\lib\\site-packages\\google\\protobuf\\symbol_database.py:78: UserWarning: SymbolDatabase.GetPrototype() is deprecated. Please use message_factory.GetMessageClass() instead. SymbolDatabase.GetPrototype() will be removed soon.\n",
      "  warnings.warn('SymbolDatabase.GetPrototype() is deprecated. Please '\n"
     ]
    },
    {
     "ename": "KeyboardInterrupt",
     "evalue": "",
     "output_type": "error",
     "traceback": [
      "\u001b[1;31m---------------------------------------------------------------------------\u001b[0m",
      "\u001b[1;31mKeyboardInterrupt\u001b[0m                         Traceback (most recent call last)",
      "Cell \u001b[1;32mIn[4], line 13\u001b[0m\n\u001b[0;32m     10\u001b[0m fingers \u001b[39m=\u001b[39m []\n\u001b[0;32m     12\u001b[0m \u001b[39mwhile\u001b[39;00m \u001b[39mTrue\u001b[39;00m:\n\u001b[1;32m---> 13\u001b[0m     success , img \u001b[39m=\u001b[39m cap\u001b[39m.\u001b[39;49mread()\n\u001b[0;32m     14\u001b[0m     img \u001b[39m=\u001b[39m detector\u001b[39m.\u001b[39mfindHands(img)\n\u001b[0;32m     15\u001b[0m     lmList \u001b[39m=\u001b[39m detector\u001b[39m.\u001b[39mfindPosition(img, draw \u001b[39m=\u001b[39m \u001b[39mFalse\u001b[39;00m)\n",
      "\u001b[1;31mKeyboardInterrupt\u001b[0m: "
     ]
    },
    {
     "ename": "",
     "evalue": "",
     "output_type": "error",
     "traceback": [
      "\u001b[1;31mThe Kernel crashed while executing code in the the current cell or a previous cell. Please review the code in the cell(s) to identify a possible cause of the failure. Click <a href='https://aka.ms/vscodeJupyterKernelCrash'>here</a> for more info. View Jupyter <a href='command:jupyter.viewOutput'>log</a> for further details."
     ]
    }
   ],
   "source": [
    "cap = cv.VideoCapture(0)\n",
    "cap.set(3,wCam)\n",
    "cap.set(4,hCam)\n",
    "\n",
    "pTime = 0\n",
    "\n",
    "detector = handDetector(detectionCon=0.75)\n",
    "\n",
    "tipIds = [4 , 8 , 12 , 16 , 20]\n",
    "fingers = []\n",
    "\n",
    "while True:\n",
    "    success , img = cap.read()\n",
    "    img = detector.findHands(img)\n",
    "    lmList = detector.findPosition(img, draw = False)\n",
    "    \n",
    "    if len(lmList) != 0 :\n",
    "        fingers = []\n",
    "        \n",
    "        # thums\n",
    "        if lmList[tipIds[0]][1] < lmList[tipIds[0] - 1][1]:\n",
    "            fingers.append(0)\n",
    "        else:\n",
    "            fingers.append(1)\n",
    "            \n",
    "        # Fingers\n",
    "        for id in range(1,5):\n",
    "            if lmList[tipIds[id]][2] < lmList[tipIds[id]-2][2]:\n",
    "                fingers.append(1)\n",
    "            else:\n",
    "                fingers.append(0)\n",
    "        \n",
    "    \n",
    "    cv.putText(img,str(fingers.count(1)) ,(20,150) , cv.FONT_HERSHEY_PLAIN , 10 , (255,0,0), 25)\n",
    "    cTime = time.time()\n",
    "    fbs = 1/(cTime - pTime)\n",
    "    pTime = cTime\n",
    "    cv.putText(img , f\"FBS {int(fbs)}\" ,(400,70) , cv.FONT_HERSHEY_COMPLEX , 2 , (255,0,0) , 2)\n",
    "    \n",
    "    cv.imshow(\"Image\",img)\n",
    "    cv.waitKey(1)"
   ]
  },
  {
   "cell_type": "code",
   "execution_count": null,
   "metadata": {},
   "outputs": [],
   "source": []
  }
 ],
 "metadata": {
  "kernelspec": {
   "display_name": "Python 3",
   "language": "python",
   "name": "python3"
  },
  "language_info": {
   "codemirror_mode": {
    "name": "ipython",
    "version": 3
   },
   "file_extension": ".py",
   "mimetype": "text/x-python",
   "name": "python",
   "nbconvert_exporter": "python",
   "pygments_lexer": "ipython3",
   "version": "3.8.16"
  },
  "orig_nbformat": 4
 },
 "nbformat": 4,
 "nbformat_minor": 2
}
