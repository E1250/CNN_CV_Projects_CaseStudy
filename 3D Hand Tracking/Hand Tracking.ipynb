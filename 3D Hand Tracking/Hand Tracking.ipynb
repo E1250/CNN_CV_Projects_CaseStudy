{
 "cells": [
  {
   "cell_type": "code",
   "execution_count": 10,
   "metadata": {},
   "outputs": [],
   "source": [
    "# %%writefile main.py\n",
    "import socket\n",
    "import cv2 as cv\n",
    "from cvzone.HandTrackingModule import HandDetector\n",
    "\n",
    "cap = cv.VideoCapture(0)\n",
    "cap.set(3, 640)\n",
    "cap.set(4, 640)\n",
    "h, _, _ = cap.read()[1].shape\n",
    "\n",
    "# Hand Detector\n",
    "detector = HandDetector(maxHands=1, detectionCon=0.8)\n",
    "\n",
    "# Socket\n",
    "sock = socket.socket(socket.AF_INET, socket.SOCK_DGRAM) # UDP\n",
    "sereverAddressPort = ('127.0.0.1', 5052) # (address, port)\n",
    "\n",
    "while True:\n",
    "    success, img = cap.read()\n",
    "    \n",
    "    # Hands\n",
    "    hands, img = detector.findHands(img)\n",
    "    \n",
    "    data = []\n",
    "    # Landmark values\n",
    "    if hands:\n",
    "        # Get the first hand\n",
    "        hand = hands[0]\n",
    "        \n",
    "        # Get the landmark list\n",
    "        lmList = hand[\"lmList\"]\n",
    "        \n",
    "        for lm in lmList:\n",
    "            data.extend([lm[0], h - lm[1], lm[2]]) # Flip y axis to match the unity coordinate system.\n",
    "            \n",
    "        # Sending Data\n",
    "        sock.sendto(str.encode(str(data)), sereverAddressPort)\n",
    "    \n",
    "    \n",
    "    cv.imshow(\"Image\", img)\n",
    "    if cv.waitKey(1) & 0xFF == ord('q'):\n",
    "        break\n",
    "    \n",
    "cap.release()\n",
    "cv.destroyAllWindows()"
   ]
  },
  {
   "cell_type": "code",
   "execution_count": null,
   "metadata": {},
   "outputs": [],
   "source": []
  }
 ],
 "metadata": {
  "kernelspec": {
   "display_name": "base",
   "language": "python",
   "name": "python3"
  },
  "language_info": {
   "codemirror_mode": {
    "name": "ipython",
    "version": 3
   },
   "file_extension": ".py",
   "mimetype": "text/x-python",
   "name": "python",
   "nbconvert_exporter": "python",
   "pygments_lexer": "ipython3",
   "version": "3.11.3"
  }
 },
 "nbformat": 4,
 "nbformat_minor": 2
}
