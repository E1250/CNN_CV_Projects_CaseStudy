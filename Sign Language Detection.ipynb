{
 "cells": [
  {
   "attachments": {},
   "cell_type": "markdown",
   "metadata": {},
   "source": [
    "## Sign Language Detection using **Actoin Recognition** & LSTM DL Model\n",
    "* Youtube Video - https://www.youtube.com/watch?v=doDUihpj6ro\n",
    "* Github Repo - https://github.com/nicknochnack/ActionDetectionforSignLanguage\n",
    "* Google Mediapipe - https://developers.google.com/mediapipe/solutions\n",
    "* Mediapipe Github - https://github.com/google/mediapipe/tree/master"
   ]
  },
  {
   "cell_type": "code",
   "execution_count": 2,
   "metadata": {},
   "outputs": [],
   "source": [
    "import cv2 as cv\n",
    "import numpy as np\n",
    "import os\n",
    "import time\n",
    "import mediapipe as mp\n",
    "import matplotlib.pyplot as plt"
   ]
  },
  {
   "attachments": {},
   "cell_type": "markdown",
   "metadata": {},
   "source": [
    "### Keypoints using MP"
   ]
  },
  {
   "cell_type": "code",
   "execution_count": 3,
   "metadata": {},
   "outputs": [],
   "source": [
    "mp_holistic = mp.solutions.holistic  # Holistic model\n",
    "mp_drawing = mp.solutions.drawing_utils  # Drawing Utilities"
   ]
  },
  {
   "cell_type": "code",
   "execution_count": 11,
   "metadata": {},
   "outputs": [],
   "source": [
    "def mediapipeDetection(image , model):\n",
    "    image = cv.cvtColor(image , cv.COLOR_BGR2RGB)  # Color Conversion\n",
    "    image.flags.writeable = False  # Image is not writeable\n",
    "    \n",
    "    results = model.process(image)  # Applying mediapipe model\n",
    "    \n",
    "    image.flags.writeable = True\n",
    "    image = cv.cvtColor(image , cv.COLOR_RGB2BGR)  # Color Conversion\n",
    "    \n",
    "    return image , results"
   ]
  },
  {
   "cell_type": "code",
   "execution_count": 13,
   "metadata": {},
   "outputs": [],
   "source": [
    "def drawLandmarks(image,results):\n",
    "    mp_drawing.draw_landmarks(image,results.face_landmarks , mp_holistic.FACEMESH_CONTOURS)  # Face\n",
    "    mp_drawing.draw_landmarks(image,results.pose_landmarks , mp_holistic.POSE_CONNECTIONS)  # Pose\n",
    "    mp_drawing.draw_landmarks(image,results.left_hand_landmarks , mp_holistic.HAND_CONNECTIONS)  # Left Hand\n",
    "    mp_drawing.draw_landmarks(image,results.right_hand_landmarks , mp_holistic.HAND_CONNECTIONS)  # Right Hand"
   ]
  },
  {
   "cell_type": "code",
   "execution_count": 14,
   "metadata": {},
   "outputs": [],
   "source": [
    "def drawStyledLandmarks(image , results):\n",
    "    mp_drawing.draw_landmarks(image,results.face_landmarks ,\n",
    "                              mp_holistic.FACEMESH_CONTOURS,\n",
    "                              mp_drawing.DrawingSpec(color=(80,110,10), thickness=  1 ,circle_radius = 1),\n",
    "                              mp_drawing.DrawingSpec(color=(80,265,121), thickness = 1 ,circle_radius = 1)\n",
    "                              )\n",
    "    \n",
    "    mp_drawing.draw_landmarks(image,results.pose_landmarks ,\n",
    "                              mp_holistic.POSE_CONNECTIONS,\n",
    "                              mp_drawing.DrawingSpec(color=(80,22,10), thickness=  2 ,circle_radius = 4),\n",
    "                              mp_drawing.DrawingSpec(color=(80,44,121), thickness = 2 ,circle_radius = 2)\n",
    "                              )\n",
    "    \n",
    "    mp_drawing.draw_landmarks(image,results.left_hand_landmarks ,\n",
    "                              mp_holistic.HAND_CONNECTIONS,\n",
    "                              mp_drawing.DrawingSpec(color=(121,22,76), thickness=  2 ,circle_radius = 4),\n",
    "                              mp_drawing.DrawingSpec(color=(121,44,250), thickness = 2 ,circle_radius = 2)\n",
    "                              )\n",
    "    \n",
    "    mp_drawing.draw_landmarks(image,results.right_hand_landmarks ,\n",
    "                              mp_holistic.HAND_CONNECTIONS,\n",
    "                              mp_drawing.DrawingSpec(color=(245,117,66), thickness=  2 ,circle_radius = 4),\n",
    "                              mp_drawing.DrawingSpec(color=(245,66,230), thickness = 2 ,circle_radius = 2),\n",
    "                              )"
   ]
  },
  {
   "cell_type": "code",
   "execution_count": 50,
   "metadata": {},
   "outputs": [],
   "source": [
    "cap = cv.VideoCapture(0)\n",
    "\n",
    "# Access mediapipe model\n",
    "with mp_holistic.Holistic(min_detection_confidence=0.5 , min_tracking_confidence=0.5) as holistic:\n",
    "    while cap.isOpened():\n",
    "        \n",
    "        # Read Feed\n",
    "        ret , frame = cap.read()\n",
    "        \n",
    "        # Make detections\n",
    "        image , results = mediapipeDetection(frame , holistic)\n",
    "        \n",
    "        # Draw Landmarks\n",
    "        drawStyledLandmarks(image, results)\n",
    "        \n",
    "        # Show to screen\n",
    "        cv.imshow(\"OpenCV Feed\" , image)\n",
    "        \n",
    "        # Breaking the loop\n",
    "        if cv.waitKey(10) & 0xFF == ord('q'):\n",
    "            break\n",
    "    \n",
    "    cap.release()\n",
    "    cv.destroyAllWindows()"
   ]
  },
  {
   "attachments": {},
   "cell_type": "markdown",
   "metadata": {},
   "source": [
    "### Extract Keypoint Values"
   ]
  },
  {
   "cell_type": "code",
   "execution_count": 57,
   "metadata": {},
   "outputs": [],
   "source": [
    "# # Test\n",
    "# pose= []\n",
    "# for res in results.pose_landmarks.landmark:\n",
    "#     test = np.array([res.x , res.y , res.z , res.visibility])\n",
    "#     pose.append(test)"
   ]
  },
  {
   "cell_type": "code",
   "execution_count": 58,
   "metadata": {},
   "outputs": [],
   "source": [
    "# # Explaiation\n",
    "# np.zeros(21*3)\n",
    "\n",
    "# pose = np.array([[res.x , res.y , res.z , res.visibility] for res in results.pose_landmarks.landmark]).flatten() if results.pose_landmarks.landmark else np.zeros(132)\n",
    "# lh = np.array([[res.x , res.y , res.z] for res in results.left_hand_landmarks.landmark]).flatten() if results.left_hand_landmarks.landmark else np.zeros(21*3)\n",
    "# rh = np.array([[res.x , res.y , res.z] for res in results.right_hand_landmarks.landmark]).flatten() if results.right_hand_landmarks.landmark else np.zeros(21*3)\n",
    "# face = np.array([[res.x , res.y , res.z] for res in results.face_landmarks.landmark]).flatten() if results.face_landmarks.landmark else np.zeros(1404)\n",
    "\n",
    "# print(\"Pose Length : \",len(pose))\n",
    "# print(\"Pose Shape : \", pose.shape)\n",
    "# print(\"Left Hand \" , lh)\n",
    "# print(\"Right Hand \" , rh)\n",
    "# print(\"Face \" , face)\n"
   ]
  },
  {
   "cell_type": "code",
   "execution_count": 16,
   "metadata": {},
   "outputs": [],
   "source": [
    "def extract_keypoints(results):\n",
    "    pose = np.array([[res.x , res.y , res.z , res.visibility] for res in results.pose_landmarks.landmark]).flatten() if results.pose_landmarks else np.zeros(33*4)\n",
    "    lh = np.array([[res.x , res.y , res.z] for res in results.left_hand_landmarks.landmark]).flatten() if results.left_hand_landmarks else np.zeros(21*3)\n",
    "    rh = np.array([[res.x , res.y , res.z] for res in results.right_hand_landmarks.landmark]).flatten() if results.right_hand_landmarks else np.zeros(21*3)\n",
    "    face = np.array([[res.x , res.y , res.z] for res in results.face_landmarks.landmark]).flatten() if results.face_landmarks else np.zeros(468*3)\n",
    "    return np.concatenate([pose , face, lh , rh])"
   ]
  },
  {
   "attachments": {},
   "cell_type": "markdown",
   "metadata": {},
   "source": [
    "### Setup Folders for Collection"
   ]
  },
  {
   "cell_type": "code",
   "execution_count": 81,
   "metadata": {},
   "outputs": [],
   "source": [
    "# result_test = extract_keypoints(results)\n",
    "# np.save(\"0\" , result_test)"
   ]
  },
  {
   "cell_type": "code",
   "execution_count": 6,
   "metadata": {},
   "outputs": [],
   "source": [
    "# Path for explored data , np arrays\n",
    "DATA_PATH = os.path.join(\"MP_Data\")\n",
    "\n",
    "# Actions we wanna detect\n",
    "actions = np.array(['hello' , 'thanks' , 'i love you'])\n",
    "\n",
    "# NO. of worth Videos\n",
    "no_sequence = 30\n",
    "\n",
    "# NO. of Frames\n",
    "sequence_length = 10"
   ]
  },
  {
   "cell_type": "code",
   "execution_count": 88,
   "metadata": {},
   "outputs": [],
   "source": [
    "# Creating Folders\n",
    "for action in actions:\n",
    "    for sequence in range(no_sequence):\n",
    "        try:\n",
    "            os.makedirs(os.path.join(DATA_PATH , action , str(sequence)))\n",
    "        except: pass\n",
    "        "
   ]
  },
  {
   "attachments": {},
   "cell_type": "markdown",
   "metadata": {},
   "source": [
    "### Collect Keypoints Sequences"
   ]
  },
  {
   "cell_type": "code",
   "execution_count": 89,
   "metadata": {},
   "outputs": [],
   "source": [
    "cap = cv.VideoCapture(0)\n",
    "\n",
    "# Access mediapipe model\n",
    "with mp_holistic.Holistic(min_detection_confidence=0.5 , min_tracking_confidence=0.5) as holistic:\n",
    "    \n",
    "    # Loop through actions:\n",
    "    for action in actions:\n",
    "        # Loop through Sequences aka Videos\n",
    "        for sequence in range(no_sequence):\n",
    "            # Loop Through video length aka sequence length\n",
    "            for frame_num in range(sequence_length):\n",
    "        \n",
    "                # Read Feed\n",
    "                ret , frame = cap.read()\n",
    "                \n",
    "                # Make detections\n",
    "                image , results = mediapipeDetection(frame , holistic)\n",
    "                \n",
    "                # Draw Landmarks\n",
    "                drawStyledLandmarks(image, results)\n",
    "                \n",
    "                # Applying collection logic\n",
    "                if frame_num == 0:\n",
    "                    cv.putText(image , 'Starting Collecting' , (120,200), cv.FONT_HERSHEY_SIMPLEX , 1,(0,255,0) , 4 ,cv.LINE_AA)\n",
    "                    cv.putText(image , f'Collecting Frames For {action} Sequence NO. {sequence}' , (15,30), cv.FONT_HERSHEY_SIMPLEX , 0.7,(0,0,255) , 4 ,cv.LINE_AA)\n",
    "                    cv.waitKey(2000)\n",
    "                else:\n",
    "                    cv.putText(image , f'Collecting Frames For {action} Sequence NO. {sequence}' , (15,30), cv.FONT_HERSHEY_SIMPLEX , 0.7,(0,0,255) , 4 ,cv.LINE_AA)\n",
    "                \n",
    "                # Show to screen\n",
    "                cv.imshow(\"OpenCV Feed\" , image)\n",
    "                \n",
    "                keypoints = extract_keypoints(results)\n",
    "                npy_path = os.path.join(DATA_PATH , action , str(sequence) , str(frame_num))\n",
    "                np.save(npy_path , keypoints)\n",
    "                \n",
    "                # Breaking the loop\n",
    "                if cv.waitKey(10) & 0xFF == ord('q'):\n",
    "                    break\n",
    "    \n",
    "    cap.release()\n",
    "    cv.destroyAllWindows()"
   ]
  },
  {
   "attachments": {},
   "cell_type": "markdown",
   "metadata": {},
   "source": [
    "### Preprocess Data and Create Labels and Features\n",
    "> Note : I changed the kernal from Python 3.11 to Conda 3.8 to run the following code"
   ]
  },
  {
   "cell_type": "code",
   "execution_count": 1,
   "metadata": {},
   "outputs": [],
   "source": [
    "from sklearn.model_selection import train_test_split\n",
    "from tensorflow.keras.utils import to_categorical"
   ]
  },
  {
   "cell_type": "code",
   "execution_count": 6,
   "metadata": {},
   "outputs": [
    {
     "name": "stdout",
     "output_type": "stream",
     "text": [
      "{'hello': 0, 'thanks': 1, 'i love you': 2}\n"
     ]
    }
   ],
   "source": [
    "# Run action cell above again\n",
    "label_map = {\n",
    "    label:num for num,label in enumerate(actions)\n",
    "}\n",
    "print(label_map)"
   ]
  },
  {
   "cell_type": "code",
   "execution_count": null,
   "metadata": {},
   "outputs": [],
   "source": [
    "# Loading Stored Data\n",
    "sequences , labels = [] , []\n",
    "for action in actions:\n",
    "    for sequence in range(no_sequence):\n",
    "        window = []\n",
    "        for frame_num in range(sequence_length):\n",
    "            res = np.load(os.path.join(DATA_PATH , action , str(sequence) , f'{frame_num}.npy'))\n",
    "            window.append(res)\n",
    "            \n",
    "        sequences.append(window)\n",
    "        labels.append(label_map[action])"
   ]
  },
  {
   "cell_type": "code",
   "execution_count": 37,
   "metadata": {},
   "outputs": [
    {
     "ename": "NameError",
     "evalue": "name 'sequences' is not defined",
     "output_type": "error",
     "traceback": [
      "\u001b[1;31m---------------------------------------------------------------------------\u001b[0m",
      "\u001b[1;31mNameError\u001b[0m                                 Traceback (most recent call last)",
      "Cell \u001b[1;32mIn[37], line 1\u001b[0m\n\u001b[1;32m----> 1\u001b[0m X \u001b[39m=\u001b[39m np\u001b[39m.\u001b[39marray(sequences)\n\u001b[0;32m      2\u001b[0m y \u001b[39m=\u001b[39m to_categorical(labels)\u001b[39m.\u001b[39mastype(\u001b[39mint\u001b[39m)\n",
      "\u001b[1;31mNameError\u001b[0m: name 'sequences' is not defined"
     ]
    }
   ],
   "source": [
    "X = np.array(sequences)\n",
    "y = to_categorical(labels).astype(int)"
   ]
  },
  {
   "cell_type": "code",
   "execution_count": 15,
   "metadata": {},
   "outputs": [
    {
     "data": {
      "text/plain": [
       "array([[ 0.50149149,  0.5719136 , -0.95673114, ...,  0.        ,\n",
       "         0.        ,  0.        ],\n",
       "       [ 0.49982572,  0.57538861, -1.0137049 , ...,  0.        ,\n",
       "         0.        ,  0.        ],\n",
       "       [ 0.49951634,  0.57645965, -1.0249747 , ...,  0.        ,\n",
       "         0.        ,  0.        ],\n",
       "       ...,\n",
       "       [ 0.49818   ,  0.58204305, -1.16991329, ...,  0.        ,\n",
       "         0.        ,  0.        ],\n",
       "       [ 0.4981989 ,  0.58384401, -1.1466701 , ...,  0.        ,\n",
       "         0.        ,  0.        ],\n",
       "       [ 0.49813646,  0.58457911, -1.03997016, ...,  0.        ,\n",
       "         0.        ,  0.        ]])"
      ]
     },
     "execution_count": 15,
     "metadata": {},
     "output_type": "execute_result"
    }
   ],
   "source": [
    "X[0]"
   ]
  },
  {
   "cell_type": "code",
   "execution_count": 13,
   "metadata": {},
   "outputs": [
    {
     "data": {
      "text/plain": [
       "array([[1, 0, 0],\n",
       "       [1, 0, 0],\n",
       "       [1, 0, 0],\n",
       "       [1, 0, 0],\n",
       "       [1, 0, 0]])"
      ]
     },
     "execution_count": 13,
     "metadata": {},
     "output_type": "execute_result"
    }
   ],
   "source": [
    "y[:5]"
   ]
  },
  {
   "cell_type": "code",
   "execution_count": 36,
   "metadata": {},
   "outputs": [
    {
     "ename": "NameError",
     "evalue": "name 'X' is not defined",
     "output_type": "error",
     "traceback": [
      "\u001b[1;31m---------------------------------------------------------------------------\u001b[0m",
      "\u001b[1;31mNameError\u001b[0m                                 Traceback (most recent call last)",
      "Cell \u001b[1;32mIn[36], line 2\u001b[0m\n\u001b[0;32m      1\u001b[0m \u001b[39m# Splitting the data\u001b[39;00m\n\u001b[1;32m----> 2\u001b[0m X_train , X_test , y_train , y_test \u001b[39m=\u001b[39m train_test_split(X , y , test_size \u001b[39m=\u001b[39m \u001b[39m0.05\u001b[39m)\n",
      "\u001b[1;31mNameError\u001b[0m: name 'X' is not defined"
     ]
    }
   ],
   "source": [
    "# Splitting the data\n",
    "X_train , X_test , y_train , y_test = train_test_split(X , y , test_size = 0.05)"
   ]
  },
  {
   "attachments": {},
   "cell_type": "markdown",
   "metadata": {},
   "source": [
    "### Build & Train LSTM Neural Network"
   ]
  },
  {
   "cell_type": "code",
   "execution_count": 4,
   "metadata": {},
   "outputs": [],
   "source": [
    "from tensorflow.keras.models import Sequential\n",
    "from tensorflow.keras.layers import LSTM , Dense\n",
    "from tensorflow.keras.callbacks import TensorBoard"
   ]
  },
  {
   "cell_type": "code",
   "execution_count": 27,
   "metadata": {},
   "outputs": [],
   "source": [
    "log_dir = os.path.join('Logs')\n",
    "tb_callback = TensorBoard(log_dir) # monetoring training"
   ]
  },
  {
   "cell_type": "code",
   "execution_count": 7,
   "metadata": {},
   "outputs": [],
   "source": [
    "model = Sequential()\n",
    "model.add(LSTM(64 , return_sequences = True , activation = \"relu\" , input_shape = (10,1662)))\n",
    "model.add(LSTM(128 , return_sequences = True , activation = \"relu\" ))\n",
    "model.add(LSTM(64 , return_sequences = False , activation = \"relu\" ))\n",
    "model.add(Dense(64,activation = 'relu'))\n",
    "model.add(Dense(32,activation = 'relu'))\n",
    "model.add(Dense(actions.shape[0],activation = 'softmax'))"
   ]
  },
  {
   "cell_type": "code",
   "execution_count": 71,
   "metadata": {},
   "outputs": [],
   "source": [
    "model.compile(optimizer = 'Adam' , loss = 'categorical_crossentropy' , metrics = ['categorical_accuracy'])"
   ]
  },
  {
   "cell_type": "code",
   "execution_count": 72,
   "metadata": {},
   "outputs": [
    {
     "name": "stdout",
     "output_type": "stream",
     "text": [
      "Epoch 1/200\n",
      "3/3 [==============================] - 6s 315ms/step - loss: 1.0894 - categorical_accuracy: 0.3529\n",
      "Epoch 2/200\n",
      "3/3 [==============================] - 1s 255ms/step - loss: 1.1104 - categorical_accuracy: 0.2941\n",
      "Epoch 3/200\n",
      "3/3 [==============================] - 1s 289ms/step - loss: 1.0283 - categorical_accuracy: 0.3529\n",
      "Epoch 4/200\n",
      "3/3 [==============================] - 1s 304ms/step - loss: 1.0122 - categorical_accuracy: 0.5176\n",
      "Epoch 5/200\n",
      "3/3 [==============================] - 1s 259ms/step - loss: 0.8112 - categorical_accuracy: 0.8000\n",
      "Epoch 6/200\n",
      "3/3 [==============================] - 1s 326ms/step - loss: 0.6551 - categorical_accuracy: 0.6588\n",
      "Epoch 7/200\n",
      "3/3 [==============================] - 1s 266ms/step - loss: 0.5918 - categorical_accuracy: 0.7647\n",
      "Epoch 8/200\n",
      "3/3 [==============================] - 1s 243ms/step - loss: 0.5886 - categorical_accuracy: 0.7412\n",
      "Epoch 9/200\n",
      "3/3 [==============================] - 1s 297ms/step - loss: 0.4984 - categorical_accuracy: 0.8235\n",
      "Epoch 10/200\n",
      "3/3 [==============================] - 1s 206ms/step - loss: 0.5583 - categorical_accuracy: 0.7412\n",
      "Epoch 11/200\n",
      "3/3 [==============================] - 1s 367ms/step - loss: 0.5090 - categorical_accuracy: 0.8000\n",
      "Epoch 12/200\n",
      "3/3 [==============================] - 1s 267ms/step - loss: 0.5382 - categorical_accuracy: 0.8000\n",
      "Epoch 13/200\n",
      "3/3 [==============================] - 1s 249ms/step - loss: 0.4871 - categorical_accuracy: 0.8118\n",
      "Epoch 14/200\n",
      "3/3 [==============================] - 1s 285ms/step - loss: 0.5008 - categorical_accuracy: 0.8118\n",
      "Epoch 15/200\n",
      "3/3 [==============================] - 1s 264ms/step - loss: 0.4466 - categorical_accuracy: 0.8235\n",
      "Epoch 16/200\n",
      "3/3 [==============================] - 1s 251ms/step - loss: 0.5676 - categorical_accuracy: 0.7647\n",
      "Epoch 17/200\n",
      "3/3 [==============================] - 1s 313ms/step - loss: 0.4089 - categorical_accuracy: 0.8235\n",
      "Epoch 18/200\n",
      "3/3 [==============================] - 1s 224ms/step - loss: 0.4497 - categorical_accuracy: 0.7882\n",
      "Epoch 19/200\n",
      "3/3 [==============================] - 1s 280ms/step - loss: 0.4309 - categorical_accuracy: 0.8588\n",
      "Epoch 20/200\n",
      "3/3 [==============================] - 1s 250ms/step - loss: 0.3185 - categorical_accuracy: 0.8941\n",
      "Epoch 21/200\n",
      "3/3 [==============================] - 1s 270ms/step - loss: 0.3341 - categorical_accuracy: 0.8706\n",
      "Epoch 22/200\n",
      "3/3 [==============================] - 1s 285ms/step - loss: 0.3221 - categorical_accuracy: 0.8824\n",
      "Epoch 23/200\n",
      "3/3 [==============================] - 1s 250ms/step - loss: 0.2747 - categorical_accuracy: 0.8824\n",
      "Epoch 24/200\n",
      "3/3 [==============================] - 1s 279ms/step - loss: 0.2986 - categorical_accuracy: 0.8706\n",
      "Epoch 25/200\n",
      "3/3 [==============================] - 1s 312ms/step - loss: 0.3192 - categorical_accuracy: 0.8471\n",
      "Epoch 26/200\n",
      "3/3 [==============================] - 1s 280ms/step - loss: 0.2646 - categorical_accuracy: 0.8941\n",
      "Epoch 27/200\n",
      "3/3 [==============================] - 1s 294ms/step - loss: 0.2237 - categorical_accuracy: 0.9176\n",
      "Epoch 28/200\n",
      "3/3 [==============================] - 1s 201ms/step - loss: 0.2163 - categorical_accuracy: 0.9412\n",
      "Epoch 29/200\n",
      "3/3 [==============================] - 1s 265ms/step - loss: 0.2053 - categorical_accuracy: 0.9176\n",
      "Epoch 30/200\n",
      "3/3 [==============================] - 1s 249ms/step - loss: 0.5166 - categorical_accuracy: 0.8471\n",
      "Epoch 31/200\n",
      "3/3 [==============================] - 1s 234ms/step - loss: 1.5126 - categorical_accuracy: 0.7412\n",
      "Epoch 32/200\n",
      "3/3 [==============================] - 1s 267ms/step - loss: 0.7379 - categorical_accuracy: 0.8118\n",
      "Epoch 33/200\n",
      "3/3 [==============================] - 1s 297ms/step - loss: 0.6122 - categorical_accuracy: 0.7059\n",
      "Epoch 34/200\n",
      "3/3 [==============================] - 1s 312ms/step - loss: 0.7306 - categorical_accuracy: 0.6000\n",
      "Epoch 35/200\n",
      "3/3 [==============================] - 1s 279ms/step - loss: 0.6839 - categorical_accuracy: 0.6471\n",
      "Epoch 36/200\n",
      "3/3 [==============================] - 1s 297ms/step - loss: 0.5841 - categorical_accuracy: 0.6706\n",
      "Epoch 37/200\n",
      "3/3 [==============================] - 1s 328ms/step - loss: 0.4783 - categorical_accuracy: 0.8353\n",
      "Epoch 38/200\n",
      "3/3 [==============================] - 1s 302ms/step - loss: 0.4225 - categorical_accuracy: 0.8824\n",
      "Epoch 39/200\n",
      "3/3 [==============================] - 1s 310ms/step - loss: 0.3580 - categorical_accuracy: 0.8706\n",
      "Epoch 40/200\n",
      "3/3 [==============================] - 1s 287ms/step - loss: 0.3709 - categorical_accuracy: 0.8824\n",
      "Epoch 41/200\n",
      "3/3 [==============================] - 1s 317ms/step - loss: 0.3239 - categorical_accuracy: 0.8824\n",
      "Epoch 42/200\n",
      "3/3 [==============================] - 1s 318ms/step - loss: 0.3078 - categorical_accuracy: 0.8941\n",
      "Epoch 43/200\n",
      "3/3 [==============================] - 1s 285ms/step - loss: 0.3618 - categorical_accuracy: 0.8471\n",
      "Epoch 44/200\n",
      "3/3 [==============================] - 1s 284ms/step - loss: 0.2645 - categorical_accuracy: 0.8824\n",
      "Epoch 45/200\n",
      "3/3 [==============================] - 1s 257ms/step - loss: 0.2912 - categorical_accuracy: 0.8941\n",
      "Epoch 46/200\n",
      "3/3 [==============================] - 1s 261ms/step - loss: 0.2365 - categorical_accuracy: 0.8824\n",
      "Epoch 47/200\n",
      "3/3 [==============================] - 1s 349ms/step - loss: 0.2675 - categorical_accuracy: 0.8824\n",
      "Epoch 48/200\n",
      "3/3 [==============================] - 1s 290ms/step - loss: 0.2661 - categorical_accuracy: 0.8824\n",
      "Epoch 49/200\n",
      "3/3 [==============================] - 1s 279ms/step - loss: 0.2377 - categorical_accuracy: 0.9059\n",
      "Epoch 50/200\n",
      "3/3 [==============================] - 1s 268ms/step - loss: 0.2555 - categorical_accuracy: 0.8706\n",
      "Epoch 51/200\n",
      "3/3 [==============================] - 1s 314ms/step - loss: 0.3266 - categorical_accuracy: 0.8588\n",
      "Epoch 52/200\n",
      "3/3 [==============================] - 1s 283ms/step - loss: 0.2650 - categorical_accuracy: 0.8824\n",
      "Epoch 53/200\n",
      "3/3 [==============================] - 1s 247ms/step - loss: 0.3125 - categorical_accuracy: 0.8588\n",
      "Epoch 54/200\n",
      "3/3 [==============================] - 1s 279ms/step - loss: 0.3003 - categorical_accuracy: 0.8353\n",
      "Epoch 55/200\n",
      "3/3 [==============================] - 1s 281ms/step - loss: 0.2224 - categorical_accuracy: 0.9294\n",
      "Epoch 56/200\n",
      "3/3 [==============================] - 1s 299ms/step - loss: 0.2533 - categorical_accuracy: 0.8941\n",
      "Epoch 57/200\n",
      "3/3 [==============================] - 1s 245ms/step - loss: 0.2016 - categorical_accuracy: 0.9059\n",
      "Epoch 58/200\n",
      "3/3 [==============================] - 1s 172ms/step - loss: 0.2095 - categorical_accuracy: 0.9059\n",
      "Epoch 59/200\n",
      "3/3 [==============================] - 1s 231ms/step - loss: 0.1974 - categorical_accuracy: 0.8941\n",
      "Epoch 60/200\n",
      "3/3 [==============================] - 1s 237ms/step - loss: 0.1445 - categorical_accuracy: 0.9176\n",
      "Epoch 61/200\n",
      "3/3 [==============================] - 1s 282ms/step - loss: 0.1256 - categorical_accuracy: 0.9176\n",
      "Epoch 62/200\n",
      "3/3 [==============================] - 1s 211ms/step - loss: 0.1857 - categorical_accuracy: 0.9059\n",
      "Epoch 63/200\n",
      "3/3 [==============================] - 1s 257ms/step - loss: 0.1460 - categorical_accuracy: 0.9294\n",
      "Epoch 64/200\n",
      "3/3 [==============================] - 1s 283ms/step - loss: 0.1208 - categorical_accuracy: 0.9412\n",
      "Epoch 65/200\n",
      "3/3 [==============================] - 1s 339ms/step - loss: 0.1165 - categorical_accuracy: 0.9647\n",
      "Epoch 66/200\n",
      "3/3 [==============================] - 1s 292ms/step - loss: 0.0956 - categorical_accuracy: 0.9412\n",
      "Epoch 67/200\n",
      "3/3 [==============================] - 1s 268ms/step - loss: 0.1955 - categorical_accuracy: 0.8941\n",
      "Epoch 68/200\n",
      "3/3 [==============================] - 1s 256ms/step - loss: 0.1491 - categorical_accuracy: 0.9412\n",
      "Epoch 69/200\n",
      "3/3 [==============================] - 1s 268ms/step - loss: 0.2299 - categorical_accuracy: 0.9059\n",
      "Epoch 70/200\n",
      "3/3 [==============================] - 1s 211ms/step - loss: 0.1730 - categorical_accuracy: 0.9176\n",
      "Epoch 71/200\n",
      "3/3 [==============================] - 1s 274ms/step - loss: 0.1162 - categorical_accuracy: 0.9882\n",
      "Epoch 72/200\n",
      "3/3 [==============================] - 1s 284ms/step - loss: 0.1409 - categorical_accuracy: 0.9765\n",
      "Epoch 73/200\n",
      "3/3 [==============================] - 1s 330ms/step - loss: 0.1111 - categorical_accuracy: 0.9765\n",
      "Epoch 74/200\n",
      "3/3 [==============================] - 1s 265ms/step - loss: 0.1380 - categorical_accuracy: 0.9412\n",
      "Epoch 75/200\n",
      "3/3 [==============================] - 1s 311ms/step - loss: 0.1016 - categorical_accuracy: 0.9647\n",
      "Epoch 76/200\n",
      "3/3 [==============================] - 1s 290ms/step - loss: 0.0738 - categorical_accuracy: 0.9882\n",
      "Epoch 77/200\n",
      "3/3 [==============================] - 1s 282ms/step - loss: 0.0771 - categorical_accuracy: 0.9765\n",
      "Epoch 78/200\n",
      "3/3 [==============================] - 1s 283ms/step - loss: 0.0710 - categorical_accuracy: 0.9882\n",
      "Epoch 79/200\n",
      "3/3 [==============================] - 1s 255ms/step - loss: 0.1774 - categorical_accuracy: 0.9176\n",
      "Epoch 80/200\n",
      "3/3 [==============================] - 1s 271ms/step - loss: 0.4083 - categorical_accuracy: 0.8235\n",
      "Epoch 81/200\n",
      "3/3 [==============================] - 1s 298ms/step - loss: 0.2575 - categorical_accuracy: 0.9059\n",
      "Epoch 82/200\n",
      "3/3 [==============================] - 1s 279ms/step - loss: 0.6476 - categorical_accuracy: 0.7765\n",
      "Epoch 83/200\n",
      "3/3 [==============================] - 1s 302ms/step - loss: 1.2313 - categorical_accuracy: 0.7412\n",
      "Epoch 84/200\n",
      "3/3 [==============================] - 1s 237ms/step - loss: 1.6405 - categorical_accuracy: 0.5412\n",
      "Epoch 85/200\n",
      "3/3 [==============================] - 1s 303ms/step - loss: 0.8736 - categorical_accuracy: 0.6118\n",
      "Epoch 86/200\n",
      "3/3 [==============================] - 1s 245ms/step - loss: 0.8143 - categorical_accuracy: 0.6000\n",
      "Epoch 87/200\n",
      "3/3 [==============================] - 1s 237ms/step - loss: 0.7445 - categorical_accuracy: 0.5294\n",
      "Epoch 88/200\n",
      "3/3 [==============================] - 1s 300ms/step - loss: 0.6821 - categorical_accuracy: 0.6118\n",
      "Epoch 89/200\n",
      "3/3 [==============================] - 1s 222ms/step - loss: 0.7003 - categorical_accuracy: 0.8353\n",
      "Epoch 90/200\n",
      "3/3 [==============================] - 1s 285ms/step - loss: 0.6258 - categorical_accuracy: 0.8588\n",
      "Epoch 91/200\n",
      "3/3 [==============================] - 1s 314ms/step - loss: 0.5323 - categorical_accuracy: 0.8000\n",
      "Epoch 92/200\n",
      "3/3 [==============================] - 1s 269ms/step - loss: 0.4247 - categorical_accuracy: 0.9059\n",
      "Epoch 93/200\n",
      "3/3 [==============================] - 1s 274ms/step - loss: 0.2957 - categorical_accuracy: 0.9059\n",
      "Epoch 94/200\n",
      "3/3 [==============================] - 1s 218ms/step - loss: 0.7138 - categorical_accuracy: 0.7529\n",
      "Epoch 95/200\n",
      "3/3 [==============================] - 1s 239ms/step - loss: 0.3838 - categorical_accuracy: 0.8824\n",
      "Epoch 96/200\n",
      "3/3 [==============================] - 1s 288ms/step - loss: 0.4054 - categorical_accuracy: 0.8353\n",
      "Epoch 97/200\n",
      "3/3 [==============================] - 1s 283ms/step - loss: 0.3808 - categorical_accuracy: 0.8235\n",
      "Epoch 98/200\n",
      "3/3 [==============================] - 1s 254ms/step - loss: 0.3584 - categorical_accuracy: 0.9059\n",
      "Epoch 99/200\n",
      "3/3 [==============================] - 1s 313ms/step - loss: 0.3458 - categorical_accuracy: 0.9176\n",
      "Epoch 100/200\n",
      "3/3 [==============================] - 1s 250ms/step - loss: 0.3071 - categorical_accuracy: 0.8941\n",
      "Epoch 101/200\n",
      "3/3 [==============================] - 1s 248ms/step - loss: 0.3352 - categorical_accuracy: 0.8588\n",
      "Epoch 102/200\n",
      "3/3 [==============================] - 1s 309ms/step - loss: 0.3644 - categorical_accuracy: 0.8588\n",
      "Epoch 103/200\n",
      "3/3 [==============================] - 1s 299ms/step - loss: 0.3650 - categorical_accuracy: 0.8588\n",
      "Epoch 104/200\n",
      "3/3 [==============================] - 1s 335ms/step - loss: 0.3292 - categorical_accuracy: 0.8588\n",
      "Epoch 105/200\n",
      "3/3 [==============================] - 1s 286ms/step - loss: 0.2549 - categorical_accuracy: 0.9059\n",
      "Epoch 106/200\n",
      "3/3 [==============================] - 1s 316ms/step - loss: 0.2727 - categorical_accuracy: 0.8941\n",
      "Epoch 107/200\n",
      "3/3 [==============================] - 1s 309ms/step - loss: 0.2712 - categorical_accuracy: 0.9059\n",
      "Epoch 108/200\n",
      "3/3 [==============================] - 1s 226ms/step - loss: 0.2095 - categorical_accuracy: 0.9176\n",
      "Epoch 109/200\n",
      "3/3 [==============================] - 1s 261ms/step - loss: 0.1822 - categorical_accuracy: 0.9294\n",
      "Epoch 110/200\n",
      "3/3 [==============================] - 1s 271ms/step - loss: 0.2504 - categorical_accuracy: 0.9294\n",
      "Epoch 111/200\n",
      "3/3 [==============================] - 1s 265ms/step - loss: 0.1717 - categorical_accuracy: 0.9412\n",
      "Epoch 112/200\n",
      "3/3 [==============================] - 1s 310ms/step - loss: 0.2492 - categorical_accuracy: 0.9059\n",
      "Epoch 113/200\n",
      "3/3 [==============================] - 1s 244ms/step - loss: 0.1613 - categorical_accuracy: 0.9412\n",
      "Epoch 114/200\n",
      "3/3 [==============================] - 1s 257ms/step - loss: 0.1794 - categorical_accuracy: 0.9294\n",
      "Epoch 115/200\n",
      "3/3 [==============================] - 1s 246ms/step - loss: 0.1551 - categorical_accuracy: 0.9529\n",
      "Epoch 116/200\n",
      "3/3 [==============================] - 1s 261ms/step - loss: 0.1462 - categorical_accuracy: 0.9412\n",
      "Epoch 117/200\n",
      "3/3 [==============================] - 1s 335ms/step - loss: 0.1803 - categorical_accuracy: 0.9529\n",
      "Epoch 118/200\n",
      "3/3 [==============================] - 1s 272ms/step - loss: 0.2264 - categorical_accuracy: 0.9059\n",
      "Epoch 119/200\n",
      "3/3 [==============================] - 1s 200ms/step - loss: 0.2658 - categorical_accuracy: 0.8941\n",
      "Epoch 120/200\n",
      "3/3 [==============================] - 1s 273ms/step - loss: 0.1718 - categorical_accuracy: 0.9294\n",
      "Epoch 121/200\n",
      "3/3 [==============================] - 1s 250ms/step - loss: 0.1592 - categorical_accuracy: 0.9294\n",
      "Epoch 122/200\n",
      "3/3 [==============================] - 1s 285ms/step - loss: 0.1767 - categorical_accuracy: 0.9294\n",
      "Epoch 123/200\n",
      "3/3 [==============================] - 1s 256ms/step - loss: 0.1875 - categorical_accuracy: 0.9294\n",
      "Epoch 124/200\n",
      "3/3 [==============================] - 1s 240ms/step - loss: 0.1438 - categorical_accuracy: 0.9529\n",
      "Epoch 125/200\n",
      "3/3 [==============================] - 1s 328ms/step - loss: 0.1526 - categorical_accuracy: 0.9529\n",
      "Epoch 126/200\n",
      "3/3 [==============================] - 1s 313ms/step - loss: 0.1580 - categorical_accuracy: 0.9529\n",
      "Epoch 127/200\n",
      "3/3 [==============================] - 1s 227ms/step - loss: 0.1381 - categorical_accuracy: 0.9529\n",
      "Epoch 128/200\n",
      "3/3 [==============================] - 1s 283ms/step - loss: 0.1678 - categorical_accuracy: 0.9294\n",
      "Epoch 129/200\n",
      "3/3 [==============================] - 1s 286ms/step - loss: 0.6030 - categorical_accuracy: 0.8000\n",
      "Epoch 130/200\n",
      "3/3 [==============================] - 1s 299ms/step - loss: 0.5479 - categorical_accuracy: 0.7882\n",
      "Epoch 131/200\n",
      "3/3 [==============================] - 1s 308ms/step - loss: 0.2729 - categorical_accuracy: 0.9176\n",
      "Epoch 132/200\n",
      "3/3 [==============================] - 1s 331ms/step - loss: 0.4933 - categorical_accuracy: 0.8353\n",
      "Epoch 133/200\n",
      "3/3 [==============================] - 1s 265ms/step - loss: 0.3026 - categorical_accuracy: 0.8588\n",
      "Epoch 134/200\n",
      "3/3 [==============================] - 1s 265ms/step - loss: 0.3177 - categorical_accuracy: 0.9412\n",
      "Epoch 135/200\n",
      "3/3 [==============================] - 1s 298ms/step - loss: 0.3140 - categorical_accuracy: 0.9529\n",
      "Epoch 136/200\n",
      "3/3 [==============================] - 1s 241ms/step - loss: 0.2200 - categorical_accuracy: 0.9412\n",
      "Epoch 137/200\n",
      "3/3 [==============================] - 1s 298ms/step - loss: 0.2219 - categorical_accuracy: 0.9176\n",
      "Epoch 138/200\n",
      "3/3 [==============================] - 1s 240ms/step - loss: 0.1789 - categorical_accuracy: 0.9176\n",
      "Epoch 139/200\n",
      "3/3 [==============================] - 1s 280ms/step - loss: 0.1551 - categorical_accuracy: 0.9412\n",
      "Epoch 140/200\n",
      "3/3 [==============================] - 1s 279ms/step - loss: 0.1975 - categorical_accuracy: 0.9176\n",
      "Epoch 141/200\n",
      "3/3 [==============================] - 1s 229ms/step - loss: 0.3821 - categorical_accuracy: 0.8824\n",
      "Epoch 142/200\n",
      "3/3 [==============================] - 1s 296ms/step - loss: 0.2865 - categorical_accuracy: 0.8706\n",
      "Epoch 143/200\n",
      "3/3 [==============================] - 1s 269ms/step - loss: 0.2566 - categorical_accuracy: 0.9176\n",
      "Epoch 144/200\n",
      "3/3 [==============================] - 1s 264ms/step - loss: 0.2070 - categorical_accuracy: 0.9059\n",
      "Epoch 145/200\n",
      "3/3 [==============================] - 1s 299ms/step - loss: 0.2668 - categorical_accuracy: 0.9176\n",
      "Epoch 146/200\n",
      "3/3 [==============================] - 1s 215ms/step - loss: 0.1578 - categorical_accuracy: 0.9294\n",
      "Epoch 147/200\n",
      "3/3 [==============================] - 1s 330ms/step - loss: 0.1903 - categorical_accuracy: 0.9294\n",
      "Epoch 148/200\n",
      "3/3 [==============================] - 1s 221ms/step - loss: 0.1654 - categorical_accuracy: 0.9412\n",
      "Epoch 149/200\n",
      "3/3 [==============================] - 1s 223ms/step - loss: 0.1404 - categorical_accuracy: 0.9412\n",
      "Epoch 150/200\n",
      "3/3 [==============================] - 1s 268ms/step - loss: 0.1394 - categorical_accuracy: 0.9412\n",
      "Epoch 151/200\n",
      "3/3 [==============================] - 1s 245ms/step - loss: 0.1522 - categorical_accuracy: 0.9294\n",
      "Epoch 152/200\n",
      "3/3 [==============================] - 1s 298ms/step - loss: 0.1325 - categorical_accuracy: 0.9647\n",
      "Epoch 153/200\n",
      "3/3 [==============================] - 1s 279ms/step - loss: 0.1253 - categorical_accuracy: 0.9412\n",
      "Epoch 154/200\n",
      "3/3 [==============================] - 1s 246ms/step - loss: 0.1749 - categorical_accuracy: 0.9412\n",
      "Epoch 155/200\n",
      "3/3 [==============================] - 1s 223ms/step - loss: 0.1054 - categorical_accuracy: 0.9647\n",
      "Epoch 156/200\n",
      "3/3 [==============================] - 1s 276ms/step - loss: 0.0924 - categorical_accuracy: 0.9529\n",
      "Epoch 157/200\n",
      "3/3 [==============================] - 1s 289ms/step - loss: 0.0934 - categorical_accuracy: 0.9647\n",
      "Epoch 158/200\n",
      "3/3 [==============================] - 1s 316ms/step - loss: 0.0974 - categorical_accuracy: 0.9529\n",
      "Epoch 159/200\n",
      "3/3 [==============================] - 1s 235ms/step - loss: 0.2924 - categorical_accuracy: 0.8706\n",
      "Epoch 160/200\n",
      "3/3 [==============================] - 1s 277ms/step - loss: 0.1590 - categorical_accuracy: 0.9294\n",
      "Epoch 161/200\n",
      "3/3 [==============================] - 1s 198ms/step - loss: 0.1084 - categorical_accuracy: 0.9412\n",
      "Epoch 162/200\n",
      "3/3 [==============================] - 1s 284ms/step - loss: 0.2019 - categorical_accuracy: 0.9176\n",
      "Epoch 163/200\n",
      "3/3 [==============================] - 1s 276ms/step - loss: 0.1133 - categorical_accuracy: 0.9647\n",
      "Epoch 164/200\n",
      "3/3 [==============================] - 1s 257ms/step - loss: 0.1299 - categorical_accuracy: 0.9529\n",
      "Epoch 165/200\n",
      "3/3 [==============================] - 1s 206ms/step - loss: 0.1342 - categorical_accuracy: 0.9294\n",
      "Epoch 166/200\n",
      "3/3 [==============================] - 1s 239ms/step - loss: 0.2116 - categorical_accuracy: 0.9294\n",
      "Epoch 167/200\n",
      "3/3 [==============================] - 1s 287ms/step - loss: 0.1963 - categorical_accuracy: 0.9059\n",
      "Epoch 168/200\n",
      "3/3 [==============================] - 1s 290ms/step - loss: 0.1460 - categorical_accuracy: 0.9412\n",
      "Epoch 169/200\n",
      "3/3 [==============================] - 1s 303ms/step - loss: 0.2220 - categorical_accuracy: 0.9059\n",
      "Epoch 170/200\n",
      "3/3 [==============================] - 1s 233ms/step - loss: 0.1890 - categorical_accuracy: 0.9294\n",
      "Epoch 171/200\n",
      "3/3 [==============================] - 1s 284ms/step - loss: 0.1251 - categorical_accuracy: 0.9412\n",
      "Epoch 172/200\n",
      "3/3 [==============================] - 1s 244ms/step - loss: 0.1315 - categorical_accuracy: 0.9294\n",
      "Epoch 173/200\n",
      "3/3 [==============================] - 1s 248ms/step - loss: 0.1248 - categorical_accuracy: 0.9294\n",
      "Epoch 174/200\n",
      "3/3 [==============================] - 1s 294ms/step - loss: 0.1344 - categorical_accuracy: 0.9294\n",
      "Epoch 175/200\n",
      "3/3 [==============================] - 1s 334ms/step - loss: 0.0795 - categorical_accuracy: 0.9765\n",
      "Epoch 176/200\n",
      "3/3 [==============================] - 1s 348ms/step - loss: 0.0953 - categorical_accuracy: 0.9765\n",
      "Epoch 177/200\n",
      "3/3 [==============================] - 1s 309ms/step - loss: 0.0638 - categorical_accuracy: 0.9882\n",
      "Epoch 178/200\n",
      "3/3 [==============================] - 1s 300ms/step - loss: 0.0721 - categorical_accuracy: 0.9765\n",
      "Epoch 179/200\n",
      "3/3 [==============================] - 1s 271ms/step - loss: 0.0481 - categorical_accuracy: 0.9765\n",
      "Epoch 180/200\n",
      "3/3 [==============================] - 1s 293ms/step - loss: 0.0563 - categorical_accuracy: 0.9882\n",
      "Epoch 181/200\n",
      "3/3 [==============================] - 1s 320ms/step - loss: 0.0452 - categorical_accuracy: 0.9882\n",
      "Epoch 182/200\n",
      "3/3 [==============================] - 1s 305ms/step - loss: 0.0767 - categorical_accuracy: 0.9765\n",
      "Epoch 183/200\n",
      "3/3 [==============================] - 1s 206ms/step - loss: 0.6886 - categorical_accuracy: 0.8118\n",
      "Epoch 184/200\n",
      "3/3 [==============================] - 1s 235ms/step - loss: 0.4049 - categorical_accuracy: 0.8941\n",
      "Epoch 185/200\n",
      "3/3 [==============================] - 1s 288ms/step - loss: 0.1100 - categorical_accuracy: 0.9647\n",
      "Epoch 186/200\n",
      "3/3 [==============================] - 1s 288ms/step - loss: 0.1932 - categorical_accuracy: 0.9176\n",
      "Epoch 187/200\n",
      "3/3 [==============================] - 1s 318ms/step - loss: 0.1389 - categorical_accuracy: 0.9529\n",
      "Epoch 188/200\n",
      "3/3 [==============================] - 1s 235ms/step - loss: 0.1698 - categorical_accuracy: 0.9176\n",
      "Epoch 189/200\n",
      "3/3 [==============================] - 1s 322ms/step - loss: 0.1686 - categorical_accuracy: 0.9294\n",
      "Epoch 190/200\n",
      "3/3 [==============================] - 1s 281ms/step - loss: 0.1271 - categorical_accuracy: 0.9529\n",
      "Epoch 191/200\n",
      "3/3 [==============================] - 1s 327ms/step - loss: 0.1987 - categorical_accuracy: 0.9529\n",
      "Epoch 192/200\n",
      "3/3 [==============================] - 1s 249ms/step - loss: 0.1485 - categorical_accuracy: 0.9294\n",
      "Epoch 193/200\n",
      "3/3 [==============================] - 1s 301ms/step - loss: 0.1164 - categorical_accuracy: 0.9647\n",
      "Epoch 194/200\n",
      "3/3 [==============================] - 1s 271ms/step - loss: 0.1781 - categorical_accuracy: 0.9294\n",
      "Epoch 195/200\n",
      "3/3 [==============================] - 1s 287ms/step - loss: 0.1247 - categorical_accuracy: 0.9529\n",
      "Epoch 196/200\n",
      "3/3 [==============================] - 1s 330ms/step - loss: 0.0989 - categorical_accuracy: 0.9647\n",
      "Epoch 197/200\n",
      "3/3 [==============================] - 1s 348ms/step - loss: 0.1433 - categorical_accuracy: 0.9529\n",
      "Epoch 198/200\n",
      "3/3 [==============================] - 1s 298ms/step - loss: 0.0929 - categorical_accuracy: 0.9882\n",
      "Epoch 199/200\n",
      "3/3 [==============================] - 1s 383ms/step - loss: 0.0588 - categorical_accuracy: 0.9647\n",
      "Epoch 200/200\n",
      "3/3 [==============================] - 1s 307ms/step - loss: 0.1484 - categorical_accuracy: 0.9294\n"
     ]
    },
    {
     "data": {
      "text/plain": [
       "<keras.callbacks.History at 0x1e11fd59520>"
      ]
     },
     "execution_count": 72,
     "metadata": {},
     "output_type": "execute_result"
    }
   ],
   "source": [
    "model.fit(X_train, y_train, epochs=200 , callbacks=tb_callback)"
   ]
  },
  {
   "cell_type": "code",
   "execution_count": 73,
   "metadata": {},
   "outputs": [
    {
     "name": "stdout",
     "output_type": "stream",
     "text": [
      "Model: \"sequential_11\"\n",
      "_________________________________________________________________\n",
      " Layer (type)                Output Shape              Param #   \n",
      "=================================================================\n",
      " lstm_33 (LSTM)              (None, 10, 64)            442112    \n",
      "                                                                 \n",
      " lstm_34 (LSTM)              (None, 10, 128)           98816     \n",
      "                                                                 \n",
      " lstm_35 (LSTM)              (None, 64)                49408     \n",
      "                                                                 \n",
      " dense_33 (Dense)            (None, 64)                4160      \n",
      "                                                                 \n",
      " dense_34 (Dense)            (None, 32)                2080      \n",
      "                                                                 \n",
      " dense_35 (Dense)            (None, 3)                 99        \n",
      "                                                                 \n",
      "=================================================================\n",
      "Total params: 596,675\n",
      "Trainable params: 596,675\n",
      "Non-trainable params: 0\n",
      "_________________________________________________________________\n"
     ]
    }
   ],
   "source": [
    "model.summary()"
   ]
  },
  {
   "cell_type": "code",
   "execution_count": 49,
   "metadata": {},
   "outputs": [
    {
     "name": "stdout",
     "output_type": "stream",
     "text": [
      "(85, 3)\n"
     ]
    }
   ],
   "source": [
    "print(y_train.shape)"
   ]
  },
  {
   "attachments": {},
   "cell_type": "markdown",
   "metadata": {},
   "source": [
    "### Make Predictions"
   ]
  },
  {
   "cell_type": "code",
   "execution_count": 83,
   "metadata": {},
   "outputs": [
    {
     "name": "stdout",
     "output_type": "stream",
     "text": [
      "1/1 [==============================] - 0s 25ms/step\n",
      "Predicted Value :  hello\n",
      "True Value :  hello\n",
      "['hello' 'thanks' 'i love you']\n"
     ]
    }
   ],
   "source": [
    "res = model.predict(X_test)\n",
    "print(\"Predicted Value : \",actions[np.argmax(res)])\n",
    "print(\"True Value : \",actions[np.argmax(y_test)])\n",
    "print(actions)"
   ]
  },
  {
   "attachments": {},
   "cell_type": "markdown",
   "metadata": {},
   "source": [
    "### Saving the Model"
   ]
  },
  {
   "cell_type": "code",
   "execution_count": 84,
   "metadata": {},
   "outputs": [],
   "source": [
    "model.save(\"actions_predition_model.h5\")"
   ]
  },
  {
   "cell_type": "code",
   "execution_count": 85,
   "metadata": {},
   "outputs": [],
   "source": [
    "# del model"
   ]
  },
  {
   "cell_type": "code",
   "execution_count": 8,
   "metadata": {},
   "outputs": [],
   "source": [
    "model.load_weights(\"actions_predition_model.h5\")"
   ]
  },
  {
   "attachments": {},
   "cell_type": "markdown",
   "metadata": {},
   "source": [
    "### Evaluating using Confusion Matrix & Accuracy"
   ]
  },
  {
   "cell_type": "code",
   "execution_count": 9,
   "metadata": {},
   "outputs": [],
   "source": [
    "from sklearn.metrics import multilabel_confusion_matrix , accuracy_score"
   ]
  },
  {
   "cell_type": "code",
   "execution_count": 34,
   "metadata": {},
   "outputs": [
    {
     "ename": "NameError",
     "evalue": "name 'X_test' is not defined",
     "output_type": "error",
     "traceback": [
      "\u001b[1;31m---------------------------------------------------------------------------\u001b[0m",
      "\u001b[1;31mNameError\u001b[0m                                 Traceback (most recent call last)",
      "Cell \u001b[1;32mIn[34], line 1\u001b[0m\n\u001b[1;32m----> 1\u001b[0m y_hat \u001b[39m=\u001b[39m model\u001b[39m.\u001b[39mpredict(X_test)\n",
      "\u001b[1;31mNameError\u001b[0m: name 'X_test' is not defined"
     ]
    }
   ],
   "source": [
    "y_hat = model.predict(X_test)"
   ]
  },
  {
   "cell_type": "code",
   "execution_count": 35,
   "metadata": {},
   "outputs": [
    {
     "ename": "NameError",
     "evalue": "name 'y_test' is not defined",
     "output_type": "error",
     "traceback": [
      "\u001b[1;31m---------------------------------------------------------------------------\u001b[0m",
      "\u001b[1;31mNameError\u001b[0m                                 Traceback (most recent call last)",
      "Cell \u001b[1;32mIn[35], line 1\u001b[0m\n\u001b[1;32m----> 1\u001b[0m y_true \u001b[39m=\u001b[39m np\u001b[39m.\u001b[39margmax(y_test , axis \u001b[39m=\u001b[39m \u001b[39m1\u001b[39m)\u001b[39m.\u001b[39mtolist()\n\u001b[0;32m      2\u001b[0m y_hat \u001b[39m=\u001b[39m np\u001b[39m.\u001b[39margmax(y_hat , axis \u001b[39m=\u001b[39m \u001b[39m1\u001b[39m)\u001b[39m.\u001b[39mtolist()\n",
      "\u001b[1;31mNameError\u001b[0m: name 'y_test' is not defined"
     ]
    }
   ],
   "source": [
    "y_true = np.argmax(y_test , axis = 1).tolist()\n",
    "y_hat = np.argmax(y_hat , axis = 1).tolist()"
   ]
  },
  {
   "cell_type": "code",
   "execution_count": 94,
   "metadata": {},
   "outputs": [
    {
     "data": {
      "text/plain": [
       "array([[[3, 0],\n",
       "        [0, 2]],\n",
       "\n",
       "       [[2, 0],\n",
       "        [0, 3]]], dtype=int64)"
      ]
     },
     "execution_count": 94,
     "metadata": {},
     "output_type": "execute_result"
    }
   ],
   "source": [
    "multilabel_confusion_matrix(y_true,y_hat)"
   ]
  },
  {
   "cell_type": "code",
   "execution_count": 33,
   "metadata": {},
   "outputs": [
    {
     "ename": "NameError",
     "evalue": "name 'y_true' is not defined",
     "output_type": "error",
     "traceback": [
      "\u001b[1;31m---------------------------------------------------------------------------\u001b[0m",
      "\u001b[1;31mNameError\u001b[0m                                 Traceback (most recent call last)",
      "Cell \u001b[1;32mIn[33], line 1\u001b[0m\n\u001b[1;32m----> 1\u001b[0m accuracy_score(y_true,y_hat)\n",
      "\u001b[1;31mNameError\u001b[0m: name 'y_true' is not defined"
     ]
    }
   ],
   "source": [
    "accuracy_score(y_true,y_hat)"
   ]
  },
  {
   "attachments": {},
   "cell_type": "markdown",
   "metadata": {},
   "source": [
    "### Testing in Real Time"
   ]
  },
  {
   "cell_type": "code",
   "execution_count": 52,
   "metadata": {},
   "outputs": [],
   "source": [
    "from scipy import stats"
   ]
  },
  {
   "cell_type": "code",
   "execution_count": 53,
   "metadata": {},
   "outputs": [],
   "source": [
    "colors = [(245,117,16), (117,245,16), (16,117,245)]\n",
    "def prob_viz(res, actions, input_frame, colors):\n",
    "    output_frame = input_frame.copy()\n",
    "    for num, prob in enumerate(res):\n",
    "        cv.rectangle(output_frame, (0,60+num*40), (int(prob*100), 90+num*40), colors[num], -1)\n",
    "        cv.putText(output_frame, actions[num], (0, 85+num*40), cv.FONT_HERSHEY_SIMPLEX, 1, (255,255,255), 2, cv.LINE_AA)\n",
    "        \n",
    "    return output_frame"
   ]
  },
  {
   "cell_type": "code",
   "execution_count": 55,
   "metadata": {},
   "outputs": [
    {
     "name": "stdout",
     "output_type": "stream",
     "text": [
      "<class 'mediapipe.python.solution_base.SolutionOutputs'>\n",
      "<class 'mediapipe.python.solution_base.SolutionOutputs'>\n",
      "<class 'mediapipe.python.solution_base.SolutionOutputs'>\n",
      "<class 'mediapipe.python.solution_base.SolutionOutputs'>\n",
      "<class 'mediapipe.python.solution_base.SolutionOutputs'>\n",
      "<class 'mediapipe.python.solution_base.SolutionOutputs'>\n",
      "<class 'mediapipe.python.solution_base.SolutionOutputs'>\n",
      "<class 'mediapipe.python.solution_base.SolutionOutputs'>\n",
      "<class 'mediapipe.python.solution_base.SolutionOutputs'>\n",
      "<class 'mediapipe.python.solution_base.SolutionOutputs'>\n",
      "<class 'mediapipe.python.solution_base.SolutionOutputs'>\n",
      "<class 'mediapipe.python.solution_base.SolutionOutputs'>\n",
      "<class 'mediapipe.python.solution_base.SolutionOutputs'>\n",
      "<class 'mediapipe.python.solution_base.SolutionOutputs'>\n",
      "<class 'mediapipe.python.solution_base.SolutionOutputs'>\n",
      "<class 'mediapipe.python.solution_base.SolutionOutputs'>\n",
      "<class 'mediapipe.python.solution_base.SolutionOutputs'>\n",
      "<class 'mediapipe.python.solution_base.SolutionOutputs'>\n",
      "<class 'mediapipe.python.solution_base.SolutionOutputs'>\n",
      "<class 'mediapipe.python.solution_base.SolutionOutputs'>\n",
      "<class 'mediapipe.python.solution_base.SolutionOutputs'>\n",
      "<class 'mediapipe.python.solution_base.SolutionOutputs'>\n",
      "<class 'mediapipe.python.solution_base.SolutionOutputs'>\n",
      "<class 'mediapipe.python.solution_base.SolutionOutputs'>\n",
      "<class 'mediapipe.python.solution_base.SolutionOutputs'>\n",
      "<class 'mediapipe.python.solution_base.SolutionOutputs'>\n",
      "<class 'mediapipe.python.solution_base.SolutionOutputs'>\n",
      "<class 'mediapipe.python.solution_base.SolutionOutputs'>\n",
      "<class 'mediapipe.python.solution_base.SolutionOutputs'>\n",
      "<class 'mediapipe.python.solution_base.SolutionOutputs'>\n",
      "1/1 [==============================] - 0s 33ms/step\n",
      "hello\n",
      "<class 'mediapipe.python.solution_base.SolutionOutputs'>\n",
      "1/1 [==============================] - 0s 40ms/step\n",
      "hello\n",
      "<class 'mediapipe.python.solution_base.SolutionOutputs'>\n",
      "1/1 [==============================] - 0s 37ms/step\n",
      "hello\n",
      "<class 'mediapipe.python.solution_base.SolutionOutputs'>\n",
      "1/1 [==============================] - 0s 36ms/step\n",
      "hello\n",
      "<class 'mediapipe.python.solution_base.SolutionOutputs'>\n",
      "1/1 [==============================] - 0s 38ms/step\n",
      "hello\n",
      "<class 'mediapipe.python.solution_base.SolutionOutputs'>\n",
      "1/1 [==============================] - 0s 38ms/step\n",
      "hello\n",
      "<class 'mediapipe.python.solution_base.SolutionOutputs'>\n",
      "1/1 [==============================] - 0s 37ms/step\n",
      "hello\n",
      "<class 'mediapipe.python.solution_base.SolutionOutputs'>\n",
      "1/1 [==============================] - 0s 38ms/step\n",
      "hello\n",
      "<class 'mediapipe.python.solution_base.SolutionOutputs'>\n",
      "1/1 [==============================] - 0s 36ms/step\n",
      "hello\n",
      "<class 'mediapipe.python.solution_base.SolutionOutputs'>\n",
      "1/1 [==============================] - 0s 35ms/step\n",
      "hello\n",
      "<class 'mediapipe.python.solution_base.SolutionOutputs'>\n",
      "1/1 [==============================] - 0s 36ms/step\n",
      "hello\n",
      "<class 'mediapipe.python.solution_base.SolutionOutputs'>\n",
      "1/1 [==============================] - 0s 36ms/step\n",
      "hello\n",
      "<class 'mediapipe.python.solution_base.SolutionOutputs'>\n",
      "1/1 [==============================] - 0s 37ms/step\n",
      "hello\n",
      "<class 'mediapipe.python.solution_base.SolutionOutputs'>\n",
      "1/1 [==============================] - 0s 38ms/step\n",
      "hello\n",
      "<class 'mediapipe.python.solution_base.SolutionOutputs'>\n",
      "1/1 [==============================] - 0s 39ms/step\n",
      "hello\n",
      "<class 'mediapipe.python.solution_base.SolutionOutputs'>\n",
      "1/1 [==============================] - 0s 37ms/step\n",
      "hello\n",
      "<class 'mediapipe.python.solution_base.SolutionOutputs'>\n",
      "1/1 [==============================] - 0s 45ms/step\n",
      "hello\n",
      "<class 'mediapipe.python.solution_base.SolutionOutputs'>\n",
      "1/1 [==============================] - 0s 40ms/step\n",
      "hello\n",
      "<class 'mediapipe.python.solution_base.SolutionOutputs'>\n",
      "1/1 [==============================] - 0s 38ms/step\n",
      "hello\n",
      "<class 'mediapipe.python.solution_base.SolutionOutputs'>\n",
      "1/1 [==============================] - 0s 35ms/step\n",
      "hello\n",
      "<class 'mediapipe.python.solution_base.SolutionOutputs'>\n",
      "1/1 [==============================] - 0s 37ms/step\n",
      "hello\n",
      "<class 'mediapipe.python.solution_base.SolutionOutputs'>\n",
      "1/1 [==============================] - 0s 37ms/step\n",
      "hello\n",
      "<class 'mediapipe.python.solution_base.SolutionOutputs'>\n",
      "1/1 [==============================] - 0s 38ms/step\n",
      "hello\n",
      "<class 'mediapipe.python.solution_base.SolutionOutputs'>\n",
      "1/1 [==============================] - 0s 38ms/step\n",
      "hello\n",
      "<class 'mediapipe.python.solution_base.SolutionOutputs'>\n",
      "1/1 [==============================] - 0s 37ms/step\n",
      "hello\n",
      "<class 'mediapipe.python.solution_base.SolutionOutputs'>\n",
      "1/1 [==============================] - 0s 35ms/step\n",
      "hello\n",
      "<class 'mediapipe.python.solution_base.SolutionOutputs'>\n",
      "1/1 [==============================] - 0s 35ms/step\n",
      "hello\n",
      "<class 'mediapipe.python.solution_base.SolutionOutputs'>\n",
      "1/1 [==============================] - 0s 36ms/step\n",
      "hello\n",
      "<class 'mediapipe.python.solution_base.SolutionOutputs'>\n",
      "1/1 [==============================] - 0s 38ms/step\n",
      "hello\n",
      "<class 'mediapipe.python.solution_base.SolutionOutputs'>\n",
      "1/1 [==============================] - 0s 37ms/step\n",
      "hello\n",
      "<class 'mediapipe.python.solution_base.SolutionOutputs'>\n",
      "1/1 [==============================] - 0s 36ms/step\n",
      "hello\n",
      "<class 'mediapipe.python.solution_base.SolutionOutputs'>\n",
      "1/1 [==============================] - 0s 38ms/step\n",
      "hello\n"
     ]
    },
    {
     "ename": "KeyboardInterrupt",
     "evalue": "",
     "output_type": "error",
     "traceback": [
      "\u001b[1;31m---------------------------------------------------------------------------\u001b[0m",
      "\u001b[1;31mKeyboardInterrupt\u001b[0m                         Traceback (most recent call last)",
      "Cell \u001b[1;32mIn[55], line 16\u001b[0m\n\u001b[0;32m     13\u001b[0m ret, frame \u001b[39m=\u001b[39m cap\u001b[39m.\u001b[39mread()\n\u001b[0;32m     15\u001b[0m \u001b[39m# Make detections\u001b[39;00m\n\u001b[1;32m---> 16\u001b[0m image, results \u001b[39m=\u001b[39m mediapipeDetection(frame, holistic)\n\u001b[0;32m     17\u001b[0m \u001b[39mprint\u001b[39m(results)\n\u001b[0;32m     19\u001b[0m \u001b[39m# Draw landmarks\u001b[39;00m\n",
      "Cell \u001b[1;32mIn[11], line 5\u001b[0m, in \u001b[0;36mmediapipeDetection\u001b[1;34m(image, model)\u001b[0m\n\u001b[0;32m      2\u001b[0m image \u001b[39m=\u001b[39m cv\u001b[39m.\u001b[39mcvtColor(image , cv\u001b[39m.\u001b[39mCOLOR_BGR2RGB)  \u001b[39m# Color Conversion\u001b[39;00m\n\u001b[0;32m      3\u001b[0m image\u001b[39m.\u001b[39mflags\u001b[39m.\u001b[39mwriteable \u001b[39m=\u001b[39m \u001b[39mFalse\u001b[39;00m  \u001b[39m# Image is not writeable\u001b[39;00m\n\u001b[1;32m----> 5\u001b[0m results \u001b[39m=\u001b[39m model\u001b[39m.\u001b[39;49mprocess(image)  \u001b[39m# Applying mediapipe model\u001b[39;00m\n\u001b[0;32m      7\u001b[0m image\u001b[39m.\u001b[39mflags\u001b[39m.\u001b[39mwriteable \u001b[39m=\u001b[39m \u001b[39mTrue\u001b[39;00m\n\u001b[0;32m      8\u001b[0m image \u001b[39m=\u001b[39m cv\u001b[39m.\u001b[39mcvtColor(image , cv\u001b[39m.\u001b[39mCOLOR_RGB2BGR)  \u001b[39m# Color Conversion\u001b[39;00m\n",
      "File \u001b[1;32md:\\Src\\Anaconda\\lib\\site-packages\\mediapipe\\python\\solutions\\holistic.py:160\u001b[0m, in \u001b[0;36mHolistic.process\u001b[1;34m(self, image)\u001b[0m\n\u001b[0;32m    136\u001b[0m \u001b[39mdef\u001b[39;00m \u001b[39mprocess\u001b[39m(\u001b[39mself\u001b[39m, image: np\u001b[39m.\u001b[39mndarray) \u001b[39m-\u001b[39m\u001b[39m>\u001b[39m NamedTuple:\n\u001b[0;32m    137\u001b[0m   \u001b[39m\"\"\"Processes an RGB image and returns the pose landmarks, left and right hand landmarks, and face landmarks on the most prominent person detected.\u001b[39;00m\n\u001b[0;32m    138\u001b[0m \n\u001b[0;32m    139\u001b[0m \u001b[39m  Args:\u001b[39;00m\n\u001b[1;32m   (...)\u001b[0m\n\u001b[0;32m    157\u001b[0m \u001b[39m         \"enable_segmentation\" is set to true.\u001b[39;00m\n\u001b[0;32m    158\u001b[0m \u001b[39m  \"\"\"\u001b[39;00m\n\u001b[1;32m--> 160\u001b[0m   results \u001b[39m=\u001b[39m \u001b[39msuper\u001b[39;49m()\u001b[39m.\u001b[39;49mprocess(input_data\u001b[39m=\u001b[39;49m{\u001b[39m'\u001b[39;49m\u001b[39mimage\u001b[39;49m\u001b[39m'\u001b[39;49m: image})\n\u001b[0;32m    161\u001b[0m   \u001b[39mif\u001b[39;00m results\u001b[39m.\u001b[39mpose_landmarks:  \u001b[39m# pytype: disable=attribute-error\u001b[39;00m\n\u001b[0;32m    162\u001b[0m     \u001b[39mfor\u001b[39;00m landmark \u001b[39min\u001b[39;00m results\u001b[39m.\u001b[39mpose_landmarks\u001b[39m.\u001b[39mlandmark:  \u001b[39m# pytype: disable=attribute-error\u001b[39;00m\n",
      "File \u001b[1;32md:\\Src\\Anaconda\\lib\\site-packages\\mediapipe\\python\\solution_base.py:365\u001b[0m, in \u001b[0;36mSolutionBase.process\u001b[1;34m(self, input_data)\u001b[0m\n\u001b[0;32m    359\u001b[0m   \u001b[39melse\u001b[39;00m:\n\u001b[0;32m    360\u001b[0m     \u001b[39mself\u001b[39m\u001b[39m.\u001b[39m_graph\u001b[39m.\u001b[39madd_packet_to_input_stream(\n\u001b[0;32m    361\u001b[0m         stream\u001b[39m=\u001b[39mstream_name,\n\u001b[0;32m    362\u001b[0m         packet\u001b[39m=\u001b[39m\u001b[39mself\u001b[39m\u001b[39m.\u001b[39m_make_packet(input_stream_type,\n\u001b[0;32m    363\u001b[0m                                  data)\u001b[39m.\u001b[39mat(\u001b[39mself\u001b[39m\u001b[39m.\u001b[39m_simulated_timestamp))\n\u001b[1;32m--> 365\u001b[0m \u001b[39mself\u001b[39;49m\u001b[39m.\u001b[39;49m_graph\u001b[39m.\u001b[39;49mwait_until_idle()\n\u001b[0;32m    366\u001b[0m \u001b[39m# Create a NamedTuple object where the field names are mapping to the graph\u001b[39;00m\n\u001b[0;32m    367\u001b[0m \u001b[39m# output stream names.\u001b[39;00m\n\u001b[0;32m    368\u001b[0m solution_outputs \u001b[39m=\u001b[39m collections\u001b[39m.\u001b[39mnamedtuple(\n\u001b[0;32m    369\u001b[0m     \u001b[39m'\u001b[39m\u001b[39mSolutionOutputs\u001b[39m\u001b[39m'\u001b[39m, \u001b[39mself\u001b[39m\u001b[39m.\u001b[39m_output_stream_type_info\u001b[39m.\u001b[39mkeys())\n",
      "\u001b[1;31mKeyboardInterrupt\u001b[0m: "
     ]
    },
    {
     "ename": "",
     "evalue": "",
     "output_type": "error",
     "traceback": [
      "\u001b[1;31mThe Kernel crashed while executing code in the the current cell or a previous cell. Please review the code in the cell(s) to identify a possible cause of the failure. Click <a href='https://aka.ms/vscodeJupyterKernelCrash'>here</a> for more info. View Jupyter <a href='command:jupyter.viewOutput'>log</a> for further details."
     ]
    }
   ],
   "source": [
    "# 1. New detection variables\n",
    "sequence = []\n",
    "sentence = []\n",
    "predictions = []\n",
    "threshold = 0.5\n",
    "\n",
    "cap = cv.VideoCapture(0)\n",
    "# Set mediapipe model \n",
    "with mp_holistic.Holistic(min_detection_confidence=0.5, min_tracking_confidence=0.5) as holistic:\n",
    "    while cap.isOpened():\n",
    "\n",
    "        # Read feed\n",
    "        ret, frame = cap.read()\n",
    "\n",
    "        # Make detections\n",
    "        image, results = mediapipeDetection(frame, holistic)\n",
    "        \n",
    "        # Draw landmarks\n",
    "        drawStyledLandmarks(image, results)\n",
    "        \n",
    "        # 2. Prediction logic\n",
    "        keypoints = extract_keypoints(results)\n",
    "        sequence.append(keypoints)\n",
    "        sequence = sequence[-30:]\n",
    "        \n",
    "        if len(sequence) == 30:\n",
    "            res = model.predict(np.expand_dims(sequence, axis=0))[0]\n",
    "            predictions.append(np.argmax(res))\n",
    "            \n",
    "            \n",
    "        #3. Viz logic\n",
    "            if np.unique(predictions[-10:])[0]==np.argmax(res): \n",
    "                if res[np.argmax(res)] > threshold: \n",
    "                    \n",
    "                    if len(sentence) > 0: \n",
    "                        if actions[np.argmax(res)] != sentence[-1]:\n",
    "                            sentence.append(actions[np.argmax(res)])\n",
    "                    else:\n",
    "                        sentence.append(actions[np.argmax(res)])\n",
    "\n",
    "            if len(sentence) > 5: \n",
    "                sentence = sentence[-5:]\n",
    "\n",
    "            # Viz probabilities\n",
    "            image = prob_viz(res, actions, image, colors)\n",
    "            \n",
    "        cv.rectangle(image, (0,0), (640, 40), (245, 117, 16), -1)\n",
    "        cv.putText(image, ' '.join(sentence), (3,30), cv.FONT_HERSHEY_SIMPLEX, 1, (255, 255, 255), 2, cv.LINE_AA)\n",
    "        \n",
    "        # Show to screen\n",
    "        cv.imshow('OpenCV Feed', image)\n",
    "\n",
    "        # Break gracefully\n",
    "        if cv.waitKey(10) & 0xFF == ord('q'):\n",
    "            break\n",
    "    cap.release()\n",
    "    cv.destroyAllWindows()"
   ]
  },
  {
   "cell_type": "code",
   "execution_count": null,
   "metadata": {},
   "outputs": [],
   "source": []
  }
 ],
 "metadata": {
  "kernelspec": {
   "display_name": "Python 3",
   "language": "python",
   "name": "python3"
  },
  "language_info": {
   "codemirror_mode": {
    "name": "ipython",
    "version": 3
   },
   "file_extension": ".py",
   "mimetype": "text/x-python",
   "name": "python",
   "nbconvert_exporter": "python",
   "pygments_lexer": "ipython3",
   "version": "3.8.16"
  },
  "orig_nbformat": 4
 },
 "nbformat": 4,
 "nbformat_minor": 2
}
