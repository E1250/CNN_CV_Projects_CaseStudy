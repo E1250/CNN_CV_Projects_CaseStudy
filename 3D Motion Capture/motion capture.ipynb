{
 "cells": [
  {
   "cell_type": "code",
   "execution_count": 11,
   "metadata": {},
   "outputs": [],
   "source": [
    "# %%writefile main.py\n",
    "#! pip install cvzone\n",
    "\n",
    "import cv2 as cv\n",
    "from cvzone.PoseModule import PoseDetector\n",
    "import mediapipe as mp\n",
    "\n",
    "# Make sure that the webcam is scene stable and not moving\n",
    "cap = cv.VideoCapture(0)\n",
    "detector = PoseDetector()\n",
    "h, _, _ = cap.read()[1].shape\n",
    "poseList = []\n",
    "\n",
    "while True:\n",
    "    success, img = cap.read()\n",
    "    img = detector.findPose(img)\n",
    "    # Finding landmarks\n",
    "    lmList, bboxInfo = detector.findPosition(img)\n",
    "    if bboxInfo:\n",
    "        # Sending all the list to our file\n",
    "        lmString = '' # to store the list.\n",
    "        for lm in lmList:\n",
    "            # (pose, x, y, z)\n",
    "            lmString += f'{lm[0]},{h - lm[1]},{lm[2]},' # Flip y to match Unity.\n",
    "        poseList.append(lmString)    \n",
    "\n",
    "    cv.imshow(\"Image\", img)\n",
    "    key = cv.waitKey(1)\n",
    "    if ord('q') == key:\n",
    "        break\n",
    "    if ord('s') == key:\n",
    "        with open('Motion Capture/Assets/AnimationFile.txt', 'w') as f:\n",
    "            f.writelines([\"%s\\n \" % item for item in poseList])\n",
    "            break\n",
    "    \n",
    "cap.release()\n",
    "cv.destroyAllWindows() "
   ]
  },
  {
   "cell_type": "code",
   "execution_count": null,
   "metadata": {},
   "outputs": [],
   "source": []
  }
 ],
 "metadata": {
  "kernelspec": {
   "display_name": "base",
   "language": "python",
   "name": "python3"
  },
  "language_info": {
   "codemirror_mode": {
    "name": "ipython",
    "version": 3
   },
   "file_extension": ".py",
   "mimetype": "text/x-python",
   "name": "python",
   "nbconvert_exporter": "python",
   "pygments_lexer": "ipython3",
   "version": "3.11.3"
  }
 },
 "nbformat": 4,
 "nbformat_minor": 2
}
